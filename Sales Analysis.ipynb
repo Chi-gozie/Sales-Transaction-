{
 "cells": [
  {
   "cell_type": "markdown",
   "id": "19c6a9dd",
   "metadata": {
    "slideshow": {
     "slide_type": "slide"
    }
   },
   "source": [
    "## Company sales analysis by Chigozie Chukwu"
   ]
  },
  {
   "cell_type": "markdown",
   "id": "e804545d",
   "metadata": {
    "slideshow": {
     "slide_type": "slide"
    }
   },
   "source": [
    "## Introduction\n",
    "\n",
    "An annonymous company wants to give award during their end of the year's party and needs to know the best manager in terms of sales. They also want to know the company's performanance Inorder to improve in the coming the year. \n",
    "Three tables containing the company's sales data, returned item data and regional manager data were provided and these will be used to answer their questions."
   ]
  },
  {
   "cell_type": "markdown",
   "id": "f53ccafc",
   "metadata": {
    "slideshow": {
     "slide_type": "slide"
    }
   },
   "source": [
    "## Questions\n",
    "\n",
    "1. The Organization is planning to gift the best performing manager who made the best sales and want to know the region which the manager belongs to?\n",
    "2. How many times was delivery truck used as the ship mode? how many orders were returned, and which product category got rejected the most?\n",
    "3. Which Year did the company incurred the least shipping cost? display the day of the week in which customer segment has the most sales?\n",
    "4. Determine its profitability by knowing the actual orders that were delivered?\n",
    "5. The Organization is eager to know the customer names and persons born in 2011?\n",
    "6. what are the aggregate orders made by all the customers?\n",
    "7. The company intends to discontinue any product that brings in the least profit, what are these products?\n",
    "8. what are the top 2 best selling items that the company should keep selling?"
   ]
  },
  {
   "cell_type": "code",
   "execution_count": 24,
   "id": "5829a4f8",
   "metadata": {
    "slideshow": {
     "slide_type": "subslide"
    }
   },
   "outputs": [],
   "source": [
    "## importing python packages\n",
    "import pandas as pd\n",
    "import numpy as np\n",
    "import seaborn as sb\n",
    "import matplotlib.pyplot as plt\n",
    "%matplotlib inline"
   ]
  },
  {
   "cell_type": "code",
   "execution_count": 25,
   "id": "7b7edcc7",
   "metadata": {
    "slideshow": {
     "slide_type": "skip"
    }
   },
   "outputs": [],
   "source": [
    "## Loading my dataset using pandas\n",
    "manager=pd.read_csv('regional_manager.csv')\n",
    "item=pd.read_csv('returned_item.csv')\n",
    "transaction=pd.read_csv('sales_transaction.csv')"
   ]
  },
  {
   "cell_type": "markdown",
   "id": "5104a442",
   "metadata": {
    "slideshow": {
     "slide_type": "skip"
    }
   },
   "source": [
    "Loading my dataset to see the general features and to perform data wrangling on the dataset"
   ]
  },
  {
   "cell_type": "code",
   "execution_count": 26,
   "id": "2f462b18",
   "metadata": {
    "slideshow": {
     "slide_type": "skip"
    }
   },
   "outputs": [
    {
     "data": {
      "text/html": [
       "<div>\n",
       "<style scoped>\n",
       "    .dataframe tbody tr th:only-of-type {\n",
       "        vertical-align: middle;\n",
       "    }\n",
       "\n",
       "    .dataframe tbody tr th {\n",
       "        vertical-align: top;\n",
       "    }\n",
       "\n",
       "    .dataframe thead th {\n",
       "        text-align: right;\n",
       "    }\n",
       "</style>\n",
       "<table border=\"1\" class=\"dataframe\">\n",
       "  <thead>\n",
       "    <tr style=\"text-align: right;\">\n",
       "      <th></th>\n",
       "      <th>Column1</th>\n",
       "      <th>Column2</th>\n",
       "    </tr>\n",
       "  </thead>\n",
       "  <tbody>\n",
       "    <tr>\n",
       "      <th>0</th>\n",
       "      <td>Region</td>\n",
       "      <td>Manager</td>\n",
       "    </tr>\n",
       "    <tr>\n",
       "      <th>1</th>\n",
       "      <td>Nunavut</td>\n",
       "      <td>Chris</td>\n",
       "    </tr>\n",
       "    <tr>\n",
       "      <th>2</th>\n",
       "      <td>Northwest Territories</td>\n",
       "      <td>Erin</td>\n",
       "    </tr>\n",
       "    <tr>\n",
       "      <th>3</th>\n",
       "      <td>Atlantic</td>\n",
       "      <td>Sam</td>\n",
       "    </tr>\n",
       "    <tr>\n",
       "      <th>4</th>\n",
       "      <td>Prarie</td>\n",
       "      <td>William</td>\n",
       "    </tr>\n",
       "    <tr>\n",
       "      <th>5</th>\n",
       "      <td>West</td>\n",
       "      <td>Pat</td>\n",
       "    </tr>\n",
       "    <tr>\n",
       "      <th>6</th>\n",
       "      <td>Ontario</td>\n",
       "      <td>Pat</td>\n",
       "    </tr>\n",
       "    <tr>\n",
       "      <th>7</th>\n",
       "      <td>Quebec</td>\n",
       "      <td>Pat</td>\n",
       "    </tr>\n",
       "    <tr>\n",
       "      <th>8</th>\n",
       "      <td>Yukon</td>\n",
       "      <td>Pat</td>\n",
       "    </tr>\n",
       "  </tbody>\n",
       "</table>\n",
       "</div>"
      ],
      "text/plain": [
       "                 Column1  Column2\n",
       "0                 Region  Manager\n",
       "1                Nunavut    Chris\n",
       "2  Northwest Territories     Erin\n",
       "3               Atlantic      Sam\n",
       "4                 Prarie  William\n",
       "5                   West      Pat\n",
       "6                Ontario      Pat\n",
       "7                 Quebec      Pat\n",
       "8                  Yukon      Pat"
      ]
     },
     "execution_count": 26,
     "metadata": {},
     "output_type": "execute_result"
    }
   ],
   "source": [
    "## Manual wrangling\n",
    "manager"
   ]
  },
  {
   "cell_type": "code",
   "execution_count": 27,
   "id": "731fd4fa",
   "metadata": {
    "slideshow": {
     "slide_type": "skip"
    }
   },
   "outputs": [
    {
     "data": {
      "text/html": [
       "<div>\n",
       "<style scoped>\n",
       "    .dataframe tbody tr th:only-of-type {\n",
       "        vertical-align: middle;\n",
       "    }\n",
       "\n",
       "    .dataframe tbody tr th {\n",
       "        vertical-align: top;\n",
       "    }\n",
       "\n",
       "    .dataframe thead th {\n",
       "        text-align: right;\n",
       "    }\n",
       "</style>\n",
       "<table border=\"1\" class=\"dataframe\">\n",
       "  <thead>\n",
       "    <tr style=\"text-align: right;\">\n",
       "      <th></th>\n",
       "      <th>id</th>\n",
       "      <th>Order ID</th>\n",
       "      <th>sales_id</th>\n",
       "      <th>Order status</th>\n",
       "    </tr>\n",
       "  </thead>\n",
       "  <tbody>\n",
       "    <tr>\n",
       "      <th>0</th>\n",
       "      <td>1</td>\n",
       "      <td>3</td>\n",
       "      <td>1</td>\n",
       "      <td>Delivered</td>\n",
       "    </tr>\n",
       "    <tr>\n",
       "      <th>1</th>\n",
       "      <td>2</td>\n",
       "      <td>6</td>\n",
       "      <td>2</td>\n",
       "      <td>Delivered</td>\n",
       "    </tr>\n",
       "    <tr>\n",
       "      <th>2</th>\n",
       "      <td>3</td>\n",
       "      <td>32</td>\n",
       "      <td>3</td>\n",
       "      <td>Delivered</td>\n",
       "    </tr>\n",
       "    <tr>\n",
       "      <th>3</th>\n",
       "      <td>4</td>\n",
       "      <td>32</td>\n",
       "      <td>4</td>\n",
       "      <td>Delivered</td>\n",
       "    </tr>\n",
       "    <tr>\n",
       "      <th>4</th>\n",
       "      <td>5</td>\n",
       "      <td>32</td>\n",
       "      <td>5</td>\n",
       "      <td>Delivered</td>\n",
       "    </tr>\n",
       "    <tr>\n",
       "      <th>...</th>\n",
       "      <td>...</td>\n",
       "      <td>...</td>\n",
       "      <td>...</td>\n",
       "      <td>...</td>\n",
       "    </tr>\n",
       "    <tr>\n",
       "      <th>8394</th>\n",
       "      <td>8395</td>\n",
       "      <td>59971</td>\n",
       "      <td>8395</td>\n",
       "      <td>Delivered</td>\n",
       "    </tr>\n",
       "    <tr>\n",
       "      <th>8395</th>\n",
       "      <td>8396</td>\n",
       "      <td>59971</td>\n",
       "      <td>8396</td>\n",
       "      <td>Delivered</td>\n",
       "    </tr>\n",
       "    <tr>\n",
       "      <th>8396</th>\n",
       "      <td>8397</td>\n",
       "      <td>59971</td>\n",
       "      <td>8397</td>\n",
       "      <td>Delivered</td>\n",
       "    </tr>\n",
       "    <tr>\n",
       "      <th>8397</th>\n",
       "      <td>8398</td>\n",
       "      <td>59973</td>\n",
       "      <td>8398</td>\n",
       "      <td>Delivered</td>\n",
       "    </tr>\n",
       "    <tr>\n",
       "      <th>8398</th>\n",
       "      <td>8399</td>\n",
       "      <td>59973</td>\n",
       "      <td>8399</td>\n",
       "      <td>Delivered</td>\n",
       "    </tr>\n",
       "  </tbody>\n",
       "</table>\n",
       "<p>8399 rows × 4 columns</p>\n",
       "</div>"
      ],
      "text/plain": [
       "        id  Order ID  sales_id Order status\n",
       "0        1         3         1    Delivered\n",
       "1        2         6         2    Delivered\n",
       "2        3        32         3    Delivered\n",
       "3        4        32         4    Delivered\n",
       "4        5        32         5    Delivered\n",
       "...    ...       ...       ...          ...\n",
       "8394  8395     59971      8395    Delivered\n",
       "8395  8396     59971      8396    Delivered\n",
       "8396  8397     59971      8397    Delivered\n",
       "8397  8398     59973      8398    Delivered\n",
       "8398  8399     59973      8399    Delivered\n",
       "\n",
       "[8399 rows x 4 columns]"
      ]
     },
     "execution_count": 27,
     "metadata": {},
     "output_type": "execute_result"
    }
   ],
   "source": [
    "## Observing my table\n",
    "item"
   ]
  },
  {
   "cell_type": "code",
   "execution_count": 28,
   "id": "7bebc9f6",
   "metadata": {
    "slideshow": {
     "slide_type": "skip"
    }
   },
   "outputs": [
    {
     "data": {
      "text/html": [
       "<div>\n",
       "<style scoped>\n",
       "    .dataframe tbody tr th:only-of-type {\n",
       "        vertical-align: middle;\n",
       "    }\n",
       "\n",
       "    .dataframe tbody tr th {\n",
       "        vertical-align: top;\n",
       "    }\n",
       "\n",
       "    .dataframe thead th {\n",
       "        text-align: right;\n",
       "    }\n",
       "</style>\n",
       "<table border=\"1\" class=\"dataframe\">\n",
       "  <thead>\n",
       "    <tr style=\"text-align: right;\">\n",
       "      <th></th>\n",
       "      <th>sales_id</th>\n",
       "      <th>Order_id</th>\n",
       "      <th>REALORDERDATE</th>\n",
       "      <th>Order Priority</th>\n",
       "      <th>Order Quantity</th>\n",
       "      <th>Sales</th>\n",
       "      <th>Discount</th>\n",
       "      <th>Ship Mode</th>\n",
       "      <th>Profit</th>\n",
       "      <th>Unit Price</th>\n",
       "      <th>Shipping Cost</th>\n",
       "      <th>First Name</th>\n",
       "      <th>Last Name</th>\n",
       "      <th>Region</th>\n",
       "      <th>Customer Segment</th>\n",
       "      <th>Product Category</th>\n",
       "      <th>Product Sub-Category</th>\n",
       "      <th>Product Container</th>\n",
       "      <th>Ship_Date</th>\n",
       "      <th>Birth_Date</th>\n",
       "    </tr>\n",
       "  </thead>\n",
       "  <tbody>\n",
       "    <tr>\n",
       "      <th>0</th>\n",
       "      <td>1</td>\n",
       "      <td>3</td>\n",
       "      <td>10/13/2010</td>\n",
       "      <td>Low</td>\n",
       "      <td>6</td>\n",
       "      <td>261.5400</td>\n",
       "      <td>0.04</td>\n",
       "      <td>Regular Air</td>\n",
       "      <td>-213.25</td>\n",
       "      <td>38.94</td>\n",
       "      <td>35.00</td>\n",
       "      <td>Muhammed</td>\n",
       "      <td>MacIntyre</td>\n",
       "      <td>Nunavut</td>\n",
       "      <td>Small Business</td>\n",
       "      <td>Office Supplies</td>\n",
       "      <td>Storage &amp; Organization</td>\n",
       "      <td>Large Box</td>\n",
       "      <td>10/20/2010</td>\n",
       "      <td>04/08/1970</td>\n",
       "    </tr>\n",
       "    <tr>\n",
       "      <th>1</th>\n",
       "      <td>49</td>\n",
       "      <td>293</td>\n",
       "      <td>10/01/2012</td>\n",
       "      <td>High</td>\n",
       "      <td>49</td>\n",
       "      <td>10123.0200</td>\n",
       "      <td>0.07</td>\n",
       "      <td>Delivery Truck</td>\n",
       "      <td>457.81</td>\n",
       "      <td>208.16</td>\n",
       "      <td>68.02</td>\n",
       "      <td>Barry</td>\n",
       "      <td>French</td>\n",
       "      <td>Nunavut</td>\n",
       "      <td>Consumer</td>\n",
       "      <td>Office Supplies</td>\n",
       "      <td>Appliances</td>\n",
       "      <td>Jumbo Drum</td>\n",
       "      <td>10/02/2012</td>\n",
       "      <td>5/14/1969</td>\n",
       "    </tr>\n",
       "    <tr>\n",
       "      <th>2</th>\n",
       "      <td>50</td>\n",
       "      <td>293</td>\n",
       "      <td>10/01/2012</td>\n",
       "      <td>High</td>\n",
       "      <td>27</td>\n",
       "      <td>244.5700</td>\n",
       "      <td>0.01</td>\n",
       "      <td>Regular Air</td>\n",
       "      <td>46.71</td>\n",
       "      <td>8.69</td>\n",
       "      <td>2.99</td>\n",
       "      <td>Barry</td>\n",
       "      <td>French</td>\n",
       "      <td>Nunavut</td>\n",
       "      <td>Consumer</td>\n",
       "      <td>Office Supplies</td>\n",
       "      <td>Binders and Binder Accessories</td>\n",
       "      <td>Small Box</td>\n",
       "      <td>10/03/2012</td>\n",
       "      <td>08/12/1969</td>\n",
       "    </tr>\n",
       "    <tr>\n",
       "      <th>3</th>\n",
       "      <td>80</td>\n",
       "      <td>483</td>\n",
       "      <td>07/10/2011</td>\n",
       "      <td>High</td>\n",
       "      <td>30</td>\n",
       "      <td>4965.7595</td>\n",
       "      <td>0.08</td>\n",
       "      <td>Regular Air</td>\n",
       "      <td>1198.97</td>\n",
       "      <td>195.99</td>\n",
       "      <td>3.99</td>\n",
       "      <td>Clay</td>\n",
       "      <td>Rozendal</td>\n",
       "      <td>Nunavut</td>\n",
       "      <td>Corporate</td>\n",
       "      <td>Technology</td>\n",
       "      <td>Telephones and Communication</td>\n",
       "      <td>Small Box</td>\n",
       "      <td>07/12/2011</td>\n",
       "      <td>2/15/1972</td>\n",
       "    </tr>\n",
       "    <tr>\n",
       "      <th>4</th>\n",
       "      <td>85</td>\n",
       "      <td>515</td>\n",
       "      <td>8/28/2010</td>\n",
       "      <td>Not Specified</td>\n",
       "      <td>19</td>\n",
       "      <td>394.2700</td>\n",
       "      <td>0.08</td>\n",
       "      <td>Regular Air</td>\n",
       "      <td>30.94</td>\n",
       "      <td>21.78</td>\n",
       "      <td>5.94</td>\n",
       "      <td>Carlos</td>\n",
       "      <td>Soltero</td>\n",
       "      <td>Nunavut</td>\n",
       "      <td>Consumer</td>\n",
       "      <td>Office Supplies</td>\n",
       "      <td>Appliances</td>\n",
       "      <td>Medium Box</td>\n",
       "      <td>8/30/2010</td>\n",
       "      <td>08/08/1972</td>\n",
       "    </tr>\n",
       "    <tr>\n",
       "      <th>...</th>\n",
       "      <td>...</td>\n",
       "      <td>...</td>\n",
       "      <td>...</td>\n",
       "      <td>...</td>\n",
       "      <td>...</td>\n",
       "      <td>...</td>\n",
       "      <td>...</td>\n",
       "      <td>...</td>\n",
       "      <td>...</td>\n",
       "      <td>...</td>\n",
       "      <td>...</td>\n",
       "      <td>...</td>\n",
       "      <td>...</td>\n",
       "      <td>...</td>\n",
       "      <td>...</td>\n",
       "      <td>...</td>\n",
       "      <td>...</td>\n",
       "      <td>...</td>\n",
       "      <td>...</td>\n",
       "      <td>...</td>\n",
       "    </tr>\n",
       "    <tr>\n",
       "      <th>8394</th>\n",
       "      <td>7765</td>\n",
       "      <td>55558</td>\n",
       "      <td>08/09/2010</td>\n",
       "      <td>Medium</td>\n",
       "      <td>8</td>\n",
       "      <td>1294.0400</td>\n",
       "      <td>0.05</td>\n",
       "      <td>Delivery Truck</td>\n",
       "      <td>-323.18</td>\n",
       "      <td>150.98</td>\n",
       "      <td>66.27</td>\n",
       "      <td>Mick</td>\n",
       "      <td>Brown</td>\n",
       "      <td>West</td>\n",
       "      <td>Consumer</td>\n",
       "      <td>Furniture</td>\n",
       "      <td>Bookcases</td>\n",
       "      <td>Jumbo Box</td>\n",
       "      <td>08/09/2010</td>\n",
       "      <td>6/16/1965</td>\n",
       "    </tr>\n",
       "    <tr>\n",
       "      <th>8395</th>\n",
       "      <td>7766</td>\n",
       "      <td>55558</td>\n",
       "      <td>08/09/2010</td>\n",
       "      <td>Medium</td>\n",
       "      <td>23</td>\n",
       "      <td>392.5700</td>\n",
       "      <td>0.04</td>\n",
       "      <td>Regular Air</td>\n",
       "      <td>22.25</td>\n",
       "      <td>17.07</td>\n",
       "      <td>8.13</td>\n",
       "      <td>Mick</td>\n",
       "      <td>Brown</td>\n",
       "      <td>West</td>\n",
       "      <td>Consumer</td>\n",
       "      <td>Office Supplies</td>\n",
       "      <td>Envelopes</td>\n",
       "      <td>Small Box</td>\n",
       "      <td>08/11/2010</td>\n",
       "      <td>06/01/1964</td>\n",
       "    </tr>\n",
       "    <tr>\n",
       "      <th>8396</th>\n",
       "      <td>7906</td>\n",
       "      <td>56550</td>\n",
       "      <td>04/08/2011</td>\n",
       "      <td>Not Specified</td>\n",
       "      <td>37</td>\n",
       "      <td>823.7800</td>\n",
       "      <td>0.03</td>\n",
       "      <td>Express Air</td>\n",
       "      <td>343.05</td>\n",
       "      <td>22.23</td>\n",
       "      <td>5.08</td>\n",
       "      <td>Frank</td>\n",
       "      <td>Hawley</td>\n",
       "      <td>West</td>\n",
       "      <td>Home Office</td>\n",
       "      <td>Furniture</td>\n",
       "      <td>Office Furnishings</td>\n",
       "      <td>Small Pack</td>\n",
       "      <td>04/10/2011</td>\n",
       "      <td>03/11/1964</td>\n",
       "    </tr>\n",
       "    <tr>\n",
       "      <th>8397</th>\n",
       "      <td>7907</td>\n",
       "      <td>56550</td>\n",
       "      <td>04/08/2011</td>\n",
       "      <td>Not Specified</td>\n",
       "      <td>8</td>\n",
       "      <td>469.8375</td>\n",
       "      <td>0.00</td>\n",
       "      <td>Regular Air</td>\n",
       "      <td>-159.24</td>\n",
       "      <td>65.99</td>\n",
       "      <td>8.99</td>\n",
       "      <td>Frank</td>\n",
       "      <td>Hawley</td>\n",
       "      <td>West</td>\n",
       "      <td>Home Office</td>\n",
       "      <td>Technology</td>\n",
       "      <td>Telephones and Communication</td>\n",
       "      <td>Small Box</td>\n",
       "      <td>04/09/2011</td>\n",
       "      <td>8/27/1964</td>\n",
       "    </tr>\n",
       "    <tr>\n",
       "      <th>8398</th>\n",
       "      <td>7914</td>\n",
       "      <td>56581</td>\n",
       "      <td>02/08/2009</td>\n",
       "      <td>High</td>\n",
       "      <td>20</td>\n",
       "      <td>2026.0100</td>\n",
       "      <td>0.10</td>\n",
       "      <td>Express Air</td>\n",
       "      <td>580.43</td>\n",
       "      <td>105.98</td>\n",
       "      <td>13.99</td>\n",
       "      <td>Grant</td>\n",
       "      <td>Donatelli</td>\n",
       "      <td>West</td>\n",
       "      <td>Consumer</td>\n",
       "      <td>Furniture</td>\n",
       "      <td>Office Furnishings</td>\n",
       "      <td>Medium Box</td>\n",
       "      <td>02/11/2009</td>\n",
       "      <td>10/09/1964</td>\n",
       "    </tr>\n",
       "  </tbody>\n",
       "</table>\n",
       "<p>8399 rows × 20 columns</p>\n",
       "</div>"
      ],
      "text/plain": [
       "      sales_id  Order_id REALORDERDATE Order Priority  Order Quantity  \\\n",
       "0            1         3    10/13/2010            Low               6   \n",
       "1           49       293    10/01/2012           High              49   \n",
       "2           50       293    10/01/2012           High              27   \n",
       "3           80       483    07/10/2011           High              30   \n",
       "4           85       515     8/28/2010  Not Specified              19   \n",
       "...        ...       ...           ...            ...             ...   \n",
       "8394      7765     55558    08/09/2010         Medium               8   \n",
       "8395      7766     55558    08/09/2010         Medium              23   \n",
       "8396      7906     56550    04/08/2011  Not Specified              37   \n",
       "8397      7907     56550    04/08/2011  Not Specified               8   \n",
       "8398      7914     56581    02/08/2009           High              20   \n",
       "\n",
       "           Sales  Discount       Ship Mode   Profit  Unit Price  \\\n",
       "0       261.5400      0.04     Regular Air  -213.25       38.94   \n",
       "1     10123.0200      0.07  Delivery Truck   457.81      208.16   \n",
       "2       244.5700      0.01     Regular Air    46.71        8.69   \n",
       "3      4965.7595      0.08     Regular Air  1198.97      195.99   \n",
       "4       394.2700      0.08     Regular Air    30.94       21.78   \n",
       "...          ...       ...             ...      ...         ...   \n",
       "8394   1294.0400      0.05  Delivery Truck  -323.18      150.98   \n",
       "8395    392.5700      0.04     Regular Air    22.25       17.07   \n",
       "8396    823.7800      0.03     Express Air   343.05       22.23   \n",
       "8397    469.8375      0.00     Regular Air  -159.24       65.99   \n",
       "8398   2026.0100      0.10     Express Air   580.43      105.98   \n",
       "\n",
       "      Shipping Cost First Name  Last Name   Region Customer Segment  \\\n",
       "0             35.00   Muhammed  MacIntyre  Nunavut   Small Business   \n",
       "1             68.02      Barry     French  Nunavut         Consumer   \n",
       "2              2.99      Barry     French  Nunavut         Consumer   \n",
       "3              3.99       Clay   Rozendal  Nunavut        Corporate   \n",
       "4              5.94     Carlos    Soltero  Nunavut         Consumer   \n",
       "...             ...        ...        ...      ...              ...   \n",
       "8394          66.27       Mick      Brown     West         Consumer   \n",
       "8395           8.13       Mick      Brown     West         Consumer   \n",
       "8396           5.08      Frank     Hawley     West      Home Office   \n",
       "8397           8.99      Frank     Hawley     West      Home Office   \n",
       "8398          13.99      Grant  Donatelli     West         Consumer   \n",
       "\n",
       "     Product Category            Product Sub-Category Product Container  \\\n",
       "0     Office Supplies          Storage & Organization         Large Box   \n",
       "1     Office Supplies                      Appliances        Jumbo Drum   \n",
       "2     Office Supplies  Binders and Binder Accessories         Small Box   \n",
       "3          Technology    Telephones and Communication         Small Box   \n",
       "4     Office Supplies                      Appliances        Medium Box   \n",
       "...               ...                             ...               ...   \n",
       "8394        Furniture                       Bookcases         Jumbo Box   \n",
       "8395  Office Supplies                       Envelopes         Small Box   \n",
       "8396        Furniture              Office Furnishings        Small Pack   \n",
       "8397       Technology    Telephones and Communication         Small Box   \n",
       "8398        Furniture              Office Furnishings        Medium Box   \n",
       "\n",
       "       Ship_Date  Birth_Date  \n",
       "0     10/20/2010  04/08/1970  \n",
       "1     10/02/2012   5/14/1969  \n",
       "2     10/03/2012  08/12/1969  \n",
       "3     07/12/2011   2/15/1972  \n",
       "4      8/30/2010  08/08/1972  \n",
       "...          ...         ...  \n",
       "8394  08/09/2010   6/16/1965  \n",
       "8395  08/11/2010  06/01/1964  \n",
       "8396  04/10/2011  03/11/1964  \n",
       "8397  04/09/2011   8/27/1964  \n",
       "8398  02/11/2009  10/09/1964  \n",
       "\n",
       "[8399 rows x 20 columns]"
      ]
     },
     "execution_count": 28,
     "metadata": {},
     "output_type": "execute_result"
    }
   ],
   "source": [
    "## Observing my table\n",
    "transaction"
   ]
  },
  {
   "cell_type": "code",
   "execution_count": 29,
   "id": "50052efc",
   "metadata": {
    "slideshow": {
     "slide_type": "skip"
    }
   },
   "outputs": [
    {
     "name": "stdout",
     "output_type": "stream",
     "text": [
      "<class 'pandas.core.frame.DataFrame'>\n",
      "RangeIndex: 9 entries, 0 to 8\n",
      "Data columns (total 2 columns):\n",
      " #   Column   Non-Null Count  Dtype \n",
      "---  ------   --------------  ----- \n",
      " 0   Column1  9 non-null      object\n",
      " 1   Column2  9 non-null      object\n",
      "dtypes: object(2)\n",
      "memory usage: 272.0+ bytes\n"
     ]
    }
   ],
   "source": [
    "## General features\n",
    "manager.info()"
   ]
  },
  {
   "cell_type": "code",
   "execution_count": 30,
   "id": "0ba9b899",
   "metadata": {
    "slideshow": {
     "slide_type": "skip"
    }
   },
   "outputs": [
    {
     "name": "stdout",
     "output_type": "stream",
     "text": [
      "<class 'pandas.core.frame.DataFrame'>\n",
      "RangeIndex: 8399 entries, 0 to 8398\n",
      "Data columns (total 4 columns):\n",
      " #   Column        Non-Null Count  Dtype \n",
      "---  ------        --------------  ----- \n",
      " 0   id            8399 non-null   int64 \n",
      " 1   Order ID      8399 non-null   int64 \n",
      " 2   sales_id      8399 non-null   int64 \n",
      " 3   Order status  8399 non-null   object\n",
      "dtypes: int64(3), object(1)\n",
      "memory usage: 262.6+ KB\n"
     ]
    }
   ],
   "source": [
    "## General info\n",
    "item.info()"
   ]
  },
  {
   "cell_type": "code",
   "execution_count": 31,
   "id": "8edf891b",
   "metadata": {
    "slideshow": {
     "slide_type": "skip"
    }
   },
   "outputs": [
    {
     "data": {
      "text/plain": [
       "0"
      ]
     },
     "execution_count": 31,
     "metadata": {},
     "output_type": "execute_result"
    }
   ],
   "source": [
    "## Looking out for duplicates\n",
    "item.duplicated().sum()"
   ]
  },
  {
   "cell_type": "code",
   "execution_count": 32,
   "id": "0214d45c",
   "metadata": {
    "slideshow": {
     "slide_type": "skip"
    }
   },
   "outputs": [
    {
     "name": "stdout",
     "output_type": "stream",
     "text": [
      "<class 'pandas.core.frame.DataFrame'>\n",
      "RangeIndex: 8399 entries, 0 to 8398\n",
      "Data columns (total 20 columns):\n",
      " #   Column                Non-Null Count  Dtype  \n",
      "---  ------                --------------  -----  \n",
      " 0   sales_id              8399 non-null   int64  \n",
      " 1   Order_id              8399 non-null   int64  \n",
      " 2   REALORDERDATE         8399 non-null   object \n",
      " 3   Order Priority        8399 non-null   object \n",
      " 4   Order Quantity        8399 non-null   int64  \n",
      " 5   Sales                 8399 non-null   float64\n",
      " 6   Discount              8399 non-null   float64\n",
      " 7   Ship Mode             8399 non-null   object \n",
      " 8   Profit                8399 non-null   float64\n",
      " 9   Unit Price            8399 non-null   float64\n",
      " 10  Shipping Cost         8399 non-null   float64\n",
      " 11  First Name            8399 non-null   object \n",
      " 12  Last Name             8399 non-null   object \n",
      " 13  Region                8399 non-null   object \n",
      " 14  Customer Segment      8399 non-null   object \n",
      " 15  Product Category      8399 non-null   object \n",
      " 16  Product Sub-Category  8399 non-null   object \n",
      " 17  Product Container     8399 non-null   object \n",
      " 18  Ship_Date             8399 non-null   object \n",
      " 19  Birth_Date            8369 non-null   object \n",
      "dtypes: float64(5), int64(3), object(12)\n",
      "memory usage: 1.3+ MB\n"
     ]
    }
   ],
   "source": [
    "## Check the general features \n",
    "transaction.info()"
   ]
  },
  {
   "cell_type": "code",
   "execution_count": 33,
   "id": "6426d0f6",
   "metadata": {
    "slideshow": {
     "slide_type": "skip"
    }
   },
   "outputs": [
    {
     "data": {
      "text/html": [
       "<div>\n",
       "<style scoped>\n",
       "    .dataframe tbody tr th:only-of-type {\n",
       "        vertical-align: middle;\n",
       "    }\n",
       "\n",
       "    .dataframe tbody tr th {\n",
       "        vertical-align: top;\n",
       "    }\n",
       "\n",
       "    .dataframe thead th {\n",
       "        text-align: right;\n",
       "    }\n",
       "</style>\n",
       "<table border=\"1\" class=\"dataframe\">\n",
       "  <thead>\n",
       "    <tr style=\"text-align: right;\">\n",
       "      <th></th>\n",
       "      <th>Column1</th>\n",
       "      <th>Column2</th>\n",
       "    </tr>\n",
       "  </thead>\n",
       "  <tbody>\n",
       "    <tr>\n",
       "      <th>count</th>\n",
       "      <td>9</td>\n",
       "      <td>9</td>\n",
       "    </tr>\n",
       "    <tr>\n",
       "      <th>unique</th>\n",
       "      <td>9</td>\n",
       "      <td>6</td>\n",
       "    </tr>\n",
       "    <tr>\n",
       "      <th>top</th>\n",
       "      <td>Region</td>\n",
       "      <td>Pat</td>\n",
       "    </tr>\n",
       "    <tr>\n",
       "      <th>freq</th>\n",
       "      <td>1</td>\n",
       "      <td>4</td>\n",
       "    </tr>\n",
       "  </tbody>\n",
       "</table>\n",
       "</div>"
      ],
      "text/plain": [
       "       Column1 Column2\n",
       "count        9       9\n",
       "unique       9       6\n",
       "top     Region     Pat\n",
       "freq         1       4"
      ]
     },
     "execution_count": 33,
     "metadata": {},
     "output_type": "execute_result"
    }
   ],
   "source": [
    "## Descriptive features of the data\n",
    "manager.describe()"
   ]
  },
  {
   "cell_type": "code",
   "execution_count": 34,
   "id": "4321e72d",
   "metadata": {
    "slideshow": {
     "slide_type": "skip"
    }
   },
   "outputs": [
    {
     "data": {
      "text/html": [
       "<div>\n",
       "<style scoped>\n",
       "    .dataframe tbody tr th:only-of-type {\n",
       "        vertical-align: middle;\n",
       "    }\n",
       "\n",
       "    .dataframe tbody tr th {\n",
       "        vertical-align: top;\n",
       "    }\n",
       "\n",
       "    .dataframe thead th {\n",
       "        text-align: right;\n",
       "    }\n",
       "</style>\n",
       "<table border=\"1\" class=\"dataframe\">\n",
       "  <thead>\n",
       "    <tr style=\"text-align: right;\">\n",
       "      <th></th>\n",
       "      <th>id</th>\n",
       "      <th>Order ID</th>\n",
       "      <th>sales_id</th>\n",
       "    </tr>\n",
       "  </thead>\n",
       "  <tbody>\n",
       "    <tr>\n",
       "      <th>count</th>\n",
       "      <td>8399.000000</td>\n",
       "      <td>8399.000000</td>\n",
       "      <td>8399.000000</td>\n",
       "    </tr>\n",
       "    <tr>\n",
       "      <th>mean</th>\n",
       "      <td>4200.000000</td>\n",
       "      <td>29965.179783</td>\n",
       "      <td>4200.000000</td>\n",
       "    </tr>\n",
       "    <tr>\n",
       "      <th>std</th>\n",
       "      <td>2424.726789</td>\n",
       "      <td>17260.883447</td>\n",
       "      <td>2424.726789</td>\n",
       "    </tr>\n",
       "    <tr>\n",
       "      <th>min</th>\n",
       "      <td>1.000000</td>\n",
       "      <td>3.000000</td>\n",
       "      <td>1.000000</td>\n",
       "    </tr>\n",
       "    <tr>\n",
       "      <th>25%</th>\n",
       "      <td>2100.500000</td>\n",
       "      <td>15011.500000</td>\n",
       "      <td>2100.500000</td>\n",
       "    </tr>\n",
       "    <tr>\n",
       "      <th>50%</th>\n",
       "      <td>4200.000000</td>\n",
       "      <td>29857.000000</td>\n",
       "      <td>4200.000000</td>\n",
       "    </tr>\n",
       "    <tr>\n",
       "      <th>75%</th>\n",
       "      <td>6299.500000</td>\n",
       "      <td>44596.000000</td>\n",
       "      <td>6299.500000</td>\n",
       "    </tr>\n",
       "    <tr>\n",
       "      <th>max</th>\n",
       "      <td>8399.000000</td>\n",
       "      <td>59973.000000</td>\n",
       "      <td>8399.000000</td>\n",
       "    </tr>\n",
       "  </tbody>\n",
       "</table>\n",
       "</div>"
      ],
      "text/plain": [
       "                id      Order ID     sales_id\n",
       "count  8399.000000   8399.000000  8399.000000\n",
       "mean   4200.000000  29965.179783  4200.000000\n",
       "std    2424.726789  17260.883447  2424.726789\n",
       "min       1.000000      3.000000     1.000000\n",
       "25%    2100.500000  15011.500000  2100.500000\n",
       "50%    4200.000000  29857.000000  4200.000000\n",
       "75%    6299.500000  44596.000000  6299.500000\n",
       "max    8399.000000  59973.000000  8399.000000"
      ]
     },
     "execution_count": 34,
     "metadata": {},
     "output_type": "execute_result"
    }
   ],
   "source": [
    "## Descriptive features of the data\n",
    "item.describe()"
   ]
  },
  {
   "cell_type": "code",
   "execution_count": 35,
   "id": "4a412036",
   "metadata": {
    "slideshow": {
     "slide_type": "skip"
    }
   },
   "outputs": [
    {
     "data": {
      "text/html": [
       "<div>\n",
       "<style scoped>\n",
       "    .dataframe tbody tr th:only-of-type {\n",
       "        vertical-align: middle;\n",
       "    }\n",
       "\n",
       "    .dataframe tbody tr th {\n",
       "        vertical-align: top;\n",
       "    }\n",
       "\n",
       "    .dataframe thead th {\n",
       "        text-align: right;\n",
       "    }\n",
       "</style>\n",
       "<table border=\"1\" class=\"dataframe\">\n",
       "  <thead>\n",
       "    <tr style=\"text-align: right;\">\n",
       "      <th></th>\n",
       "      <th>sales_id</th>\n",
       "      <th>Order_id</th>\n",
       "      <th>Order Quantity</th>\n",
       "      <th>Sales</th>\n",
       "      <th>Discount</th>\n",
       "      <th>Profit</th>\n",
       "      <th>Unit Price</th>\n",
       "      <th>Shipping Cost</th>\n",
       "    </tr>\n",
       "  </thead>\n",
       "  <tbody>\n",
       "    <tr>\n",
       "      <th>count</th>\n",
       "      <td>8399.000000</td>\n",
       "      <td>8399.000000</td>\n",
       "      <td>8399.000000</td>\n",
       "      <td>8399.000000</td>\n",
       "      <td>8399.000000</td>\n",
       "      <td>8399.000000</td>\n",
       "      <td>8399.000000</td>\n",
       "      <td>8399.000000</td>\n",
       "    </tr>\n",
       "    <tr>\n",
       "      <th>mean</th>\n",
       "      <td>4200.000000</td>\n",
       "      <td>29965.179783</td>\n",
       "      <td>25.571735</td>\n",
       "      <td>1775.878179</td>\n",
       "      <td>0.049671</td>\n",
       "      <td>181.184424</td>\n",
       "      <td>89.346259</td>\n",
       "      <td>12.838557</td>\n",
       "    </tr>\n",
       "    <tr>\n",
       "      <th>std</th>\n",
       "      <td>2424.726789</td>\n",
       "      <td>17260.883447</td>\n",
       "      <td>14.481071</td>\n",
       "      <td>3585.050525</td>\n",
       "      <td>0.031823</td>\n",
       "      <td>1196.653371</td>\n",
       "      <td>290.354383</td>\n",
       "      <td>17.264052</td>\n",
       "    </tr>\n",
       "    <tr>\n",
       "      <th>min</th>\n",
       "      <td>1.000000</td>\n",
       "      <td>3.000000</td>\n",
       "      <td>1.000000</td>\n",
       "      <td>2.240000</td>\n",
       "      <td>0.000000</td>\n",
       "      <td>-14140.700000</td>\n",
       "      <td>0.990000</td>\n",
       "      <td>0.490000</td>\n",
       "    </tr>\n",
       "    <tr>\n",
       "      <th>25%</th>\n",
       "      <td>2100.500000</td>\n",
       "      <td>15011.500000</td>\n",
       "      <td>13.000000</td>\n",
       "      <td>143.195000</td>\n",
       "      <td>0.020000</td>\n",
       "      <td>-83.315000</td>\n",
       "      <td>6.480000</td>\n",
       "      <td>3.300000</td>\n",
       "    </tr>\n",
       "    <tr>\n",
       "      <th>50%</th>\n",
       "      <td>4200.000000</td>\n",
       "      <td>29857.000000</td>\n",
       "      <td>26.000000</td>\n",
       "      <td>449.420000</td>\n",
       "      <td>0.050000</td>\n",
       "      <td>-1.500000</td>\n",
       "      <td>20.990000</td>\n",
       "      <td>6.070000</td>\n",
       "    </tr>\n",
       "    <tr>\n",
       "      <th>75%</th>\n",
       "      <td>6299.500000</td>\n",
       "      <td>44596.000000</td>\n",
       "      <td>38.000000</td>\n",
       "      <td>1709.320000</td>\n",
       "      <td>0.080000</td>\n",
       "      <td>162.750000</td>\n",
       "      <td>85.990000</td>\n",
       "      <td>13.990000</td>\n",
       "    </tr>\n",
       "    <tr>\n",
       "      <th>max</th>\n",
       "      <td>8399.000000</td>\n",
       "      <td>59973.000000</td>\n",
       "      <td>50.000000</td>\n",
       "      <td>89061.050000</td>\n",
       "      <td>0.250000</td>\n",
       "      <td>27220.690000</td>\n",
       "      <td>6783.020000</td>\n",
       "      <td>164.730000</td>\n",
       "    </tr>\n",
       "  </tbody>\n",
       "</table>\n",
       "</div>"
      ],
      "text/plain": [
       "          sales_id      Order_id  Order Quantity         Sales     Discount  \\\n",
       "count  8399.000000   8399.000000     8399.000000   8399.000000  8399.000000   \n",
       "mean   4200.000000  29965.179783       25.571735   1775.878179     0.049671   \n",
       "std    2424.726789  17260.883447       14.481071   3585.050525     0.031823   \n",
       "min       1.000000      3.000000        1.000000      2.240000     0.000000   \n",
       "25%    2100.500000  15011.500000       13.000000    143.195000     0.020000   \n",
       "50%    4200.000000  29857.000000       26.000000    449.420000     0.050000   \n",
       "75%    6299.500000  44596.000000       38.000000   1709.320000     0.080000   \n",
       "max    8399.000000  59973.000000       50.000000  89061.050000     0.250000   \n",
       "\n",
       "             Profit   Unit Price  Shipping Cost  \n",
       "count   8399.000000  8399.000000    8399.000000  \n",
       "mean     181.184424    89.346259      12.838557  \n",
       "std     1196.653371   290.354383      17.264052  \n",
       "min   -14140.700000     0.990000       0.490000  \n",
       "25%      -83.315000     6.480000       3.300000  \n",
       "50%       -1.500000    20.990000       6.070000  \n",
       "75%      162.750000    85.990000      13.990000  \n",
       "max    27220.690000  6783.020000     164.730000  "
      ]
     },
     "execution_count": 35,
     "metadata": {},
     "output_type": "execute_result"
    }
   ],
   "source": [
    "## Descriptive features of the data\n",
    "transaction.describe()"
   ]
  },
  {
   "cell_type": "code",
   "execution_count": 36,
   "id": "26a48217",
   "metadata": {
    "slideshow": {
     "slide_type": "skip"
    }
   },
   "outputs": [
    {
     "data": {
      "text/plain": [
       "0"
      ]
     },
     "execution_count": 36,
     "metadata": {},
     "output_type": "execute_result"
    }
   ],
   "source": [
    "## Check for duplicate values in transaction table\n",
    "transaction.duplicated().sum()"
   ]
  },
  {
   "cell_type": "code",
   "execution_count": 37,
   "id": "5141a863",
   "metadata": {
    "slideshow": {
     "slide_type": "skip"
    }
   },
   "outputs": [
    {
     "data": {
      "text/plain": [
       "sales_id                 0\n",
       "Order_id                 0\n",
       "REALORDERDATE            0\n",
       "Order Priority           0\n",
       "Order Quantity           0\n",
       "Sales                    0\n",
       "Discount                 0\n",
       "Ship Mode                0\n",
       "Profit                   0\n",
       "Unit Price               0\n",
       "Shipping Cost            0\n",
       "First Name               0\n",
       "Last Name                0\n",
       "Region                   0\n",
       "Customer Segment         0\n",
       "Product Category         0\n",
       "Product Sub-Category     0\n",
       "Product Container        0\n",
       "Ship_Date                0\n",
       "Birth_Date              30\n",
       "dtype: int64"
      ]
     },
     "execution_count": 37,
     "metadata": {},
     "output_type": "execute_result"
    }
   ],
   "source": [
    "## Check for null values, this will be dropped when tables have been merged\n",
    "transaction.isnull().sum()"
   ]
  },
  {
   "cell_type": "markdown",
   "id": "22d67a1c",
   "metadata": {
    "slideshow": {
     "slide_type": "skip"
    }
   },
   "source": [
    "Quality issues\n",
    "1. erroneous datatypes\n",
    "2. null values\n",
    "\n",
    "Tidiness issues\n",
    "1. non unified column names \n",
    "2. Irrelavant columns\n",
    "3. managers and item table should be part of transaction table"
   ]
  },
  {
   "cell_type": "markdown",
   "id": "808e429c",
   "metadata": {
    "slideshow": {
     "slide_type": "skip"
    }
   },
   "source": [
    "## Issue 1\n",
    "\n",
    "Non unified column names."
   ]
  },
  {
   "cell_type": "code",
   "execution_count": 38,
   "id": "96e3c475",
   "metadata": {
    "slideshow": {
     "slide_type": "skip"
    }
   },
   "outputs": [],
   "source": [
    "## Replace extra space in column title with underscore and change letters to lower case\n",
    "transaction.columns = transaction.columns.str.replace(' ', '_')\n",
    "transaction.columns = transaction.columns.str.lower()"
   ]
  },
  {
   "cell_type": "code",
   "execution_count": 39,
   "id": "4543a8c4",
   "metadata": {
    "slideshow": {
     "slide_type": "skip"
    }
   },
   "outputs": [
    {
     "data": {
      "text/html": [
       "<div>\n",
       "<style scoped>\n",
       "    .dataframe tbody tr th:only-of-type {\n",
       "        vertical-align: middle;\n",
       "    }\n",
       "\n",
       "    .dataframe tbody tr th {\n",
       "        vertical-align: top;\n",
       "    }\n",
       "\n",
       "    .dataframe thead th {\n",
       "        text-align: right;\n",
       "    }\n",
       "</style>\n",
       "<table border=\"1\" class=\"dataframe\">\n",
       "  <thead>\n",
       "    <tr style=\"text-align: right;\">\n",
       "      <th></th>\n",
       "      <th>sales_id</th>\n",
       "      <th>order_id</th>\n",
       "      <th>realorderdate</th>\n",
       "      <th>order_priority</th>\n",
       "      <th>order_quantity</th>\n",
       "      <th>sales</th>\n",
       "      <th>discount</th>\n",
       "      <th>ship_mode</th>\n",
       "      <th>profit</th>\n",
       "      <th>unit_price</th>\n",
       "      <th>shipping_cost</th>\n",
       "      <th>first_name</th>\n",
       "      <th>last_name</th>\n",
       "      <th>region</th>\n",
       "      <th>customer_segment</th>\n",
       "      <th>product_category</th>\n",
       "      <th>product_sub-category</th>\n",
       "      <th>product_container</th>\n",
       "      <th>ship_date</th>\n",
       "      <th>birth_date</th>\n",
       "    </tr>\n",
       "  </thead>\n",
       "  <tbody>\n",
       "    <tr>\n",
       "      <th>7609</th>\n",
       "      <td>6200</td>\n",
       "      <td>43911</td>\n",
       "      <td>1/14/2009</td>\n",
       "      <td>Medium</td>\n",
       "      <td>29</td>\n",
       "      <td>577.89</td>\n",
       "      <td>0.06</td>\n",
       "      <td>Regular Air</td>\n",
       "      <td>-53.89</td>\n",
       "      <td>19.99</td>\n",
       "      <td>11.17</td>\n",
       "      <td>Tamara</td>\n",
       "      <td>Manning</td>\n",
       "      <td>West</td>\n",
       "      <td>Corporate</td>\n",
       "      <td>Furniture</td>\n",
       "      <td>Office Furnishings</td>\n",
       "      <td>Large Box</td>\n",
       "      <td>1/14/2009</td>\n",
       "      <td>6/14/1968</td>\n",
       "    </tr>\n",
       "  </tbody>\n",
       "</table>\n",
       "</div>"
      ],
      "text/plain": [
       "      sales_id  order_id realorderdate order_priority  order_quantity   sales  \\\n",
       "7609      6200     43911     1/14/2009         Medium              29  577.89   \n",
       "\n",
       "      discount    ship_mode  profit  unit_price  shipping_cost first_name  \\\n",
       "7609      0.06  Regular Air  -53.89       19.99          11.17     Tamara   \n",
       "\n",
       "     last_name region customer_segment product_category product_sub-category  \\\n",
       "7609   Manning   West        Corporate        Furniture   Office Furnishings   \n",
       "\n",
       "     product_container  ship_date birth_date  \n",
       "7609         Large Box  1/14/2009  6/14/1968  "
      ]
     },
     "execution_count": 39,
     "metadata": {},
     "output_type": "execute_result"
    }
   ],
   "source": [
    "## Testing\n",
    "transaction.sample(1)"
   ]
  },
  {
   "cell_type": "code",
   "execution_count": 40,
   "id": "4efc2239",
   "metadata": {
    "slideshow": {
     "slide_type": "skip"
    }
   },
   "outputs": [],
   "source": [
    "## Replace extra space in column title with underscore and change letters to lower case\n",
    "item.columns = item.columns.str.replace(' ', '_')\n",
    "item.columns = item.columns.str.lower()"
   ]
  },
  {
   "cell_type": "code",
   "execution_count": 41,
   "id": "5659b457",
   "metadata": {
    "slideshow": {
     "slide_type": "skip"
    }
   },
   "outputs": [
    {
     "data": {
      "text/html": [
       "<div>\n",
       "<style scoped>\n",
       "    .dataframe tbody tr th:only-of-type {\n",
       "        vertical-align: middle;\n",
       "    }\n",
       "\n",
       "    .dataframe tbody tr th {\n",
       "        vertical-align: top;\n",
       "    }\n",
       "\n",
       "    .dataframe thead th {\n",
       "        text-align: right;\n",
       "    }\n",
       "</style>\n",
       "<table border=\"1\" class=\"dataframe\">\n",
       "  <thead>\n",
       "    <tr style=\"text-align: right;\">\n",
       "      <th></th>\n",
       "      <th>id</th>\n",
       "      <th>order_id</th>\n",
       "      <th>sales_id</th>\n",
       "      <th>order_status</th>\n",
       "    </tr>\n",
       "  </thead>\n",
       "  <tbody>\n",
       "    <tr>\n",
       "      <th>1941</th>\n",
       "      <td>1942</td>\n",
       "      <td>13920</td>\n",
       "      <td>1942</td>\n",
       "      <td>Delivered</td>\n",
       "    </tr>\n",
       "  </tbody>\n",
       "</table>\n",
       "</div>"
      ],
      "text/plain": [
       "        id  order_id  sales_id order_status\n",
       "1941  1942     13920      1942    Delivered"
      ]
     },
     "execution_count": 41,
     "metadata": {},
     "output_type": "execute_result"
    }
   ],
   "source": [
    "## Testing\n",
    "item.sample(1)"
   ]
  },
  {
   "cell_type": "markdown",
   "id": "4d3cc685",
   "metadata": {
    "slideshow": {
     "slide_type": "skip"
    }
   },
   "source": [
    "## Making copies of the original data\n",
    "\n",
    "I am about to make enormous changes in the original data and the wise thing to do is to ensure my original data remains intact, incase I need to access them later for clarity."
   ]
  },
  {
   "cell_type": "code",
   "execution_count": 42,
   "id": "4590589f",
   "metadata": {
    "slideshow": {
     "slide_type": "skip"
    }
   },
   "outputs": [],
   "source": [
    "# Make copies of original pieces of data\n",
    "manager_c = manager.copy()\n",
    "item_c = item.copy()\n",
    "transaction_c = transaction.copy()"
   ]
  },
  {
   "cell_type": "markdown",
   "id": "1d4052a0",
   "metadata": {
    "slideshow": {
     "slide_type": "skip"
    }
   },
   "source": [
    "## Issue 2\n",
    "\n",
    "Irrelavant columns present in the item table."
   ]
  },
  {
   "cell_type": "code",
   "execution_count": 43,
   "id": "d677374d",
   "metadata": {
    "slideshow": {
     "slide_type": "skip"
    }
   },
   "outputs": [],
   "source": [
    "##drop id column in item table\n",
    "item_c.drop('id', inplace=True, axis=1)"
   ]
  },
  {
   "cell_type": "code",
   "execution_count": 44,
   "id": "02b2c3db",
   "metadata": {
    "slideshow": {
     "slide_type": "skip"
    }
   },
   "outputs": [
    {
     "data": {
      "text/html": [
       "<div>\n",
       "<style scoped>\n",
       "    .dataframe tbody tr th:only-of-type {\n",
       "        vertical-align: middle;\n",
       "    }\n",
       "\n",
       "    .dataframe tbody tr th {\n",
       "        vertical-align: top;\n",
       "    }\n",
       "\n",
       "    .dataframe thead th {\n",
       "        text-align: right;\n",
       "    }\n",
       "</style>\n",
       "<table border=\"1\" class=\"dataframe\">\n",
       "  <thead>\n",
       "    <tr style=\"text-align: right;\">\n",
       "      <th></th>\n",
       "      <th>order_id</th>\n",
       "      <th>sales_id</th>\n",
       "      <th>order_status</th>\n",
       "    </tr>\n",
       "  </thead>\n",
       "  <tbody>\n",
       "    <tr>\n",
       "      <th>6255</th>\n",
       "      <td>44292</td>\n",
       "      <td>6256</td>\n",
       "      <td>Returned</td>\n",
       "    </tr>\n",
       "  </tbody>\n",
       "</table>\n",
       "</div>"
      ],
      "text/plain": [
       "      order_id  sales_id order_status\n",
       "6255     44292      6256     Returned"
      ]
     },
     "execution_count": 44,
     "metadata": {},
     "output_type": "execute_result"
    }
   ],
   "source": [
    "## Testing\n",
    "item_c.sample(1)"
   ]
  },
  {
   "cell_type": "markdown",
   "id": "73b4fb66",
   "metadata": {
    "slideshow": {
     "slide_type": "skip"
    }
   },
   "source": [
    "## Issue 3\n",
    "\n",
    "Managers and item table should be part of transaction table."
   ]
  },
  {
   "cell_type": "code",
   "execution_count": 45,
   "id": "e65c4df7",
   "metadata": {
    "slideshow": {
     "slide_type": "skip"
    }
   },
   "outputs": [],
   "source": [
    "## Merge item table to transaction table\n",
    "new_transaction = pd.merge(transaction_c, item_c, how='inner')"
   ]
  },
  {
   "cell_type": "code",
   "execution_count": 46,
   "id": "06a5552d",
   "metadata": {
    "slideshow": {
     "slide_type": "skip"
    }
   },
   "outputs": [
    {
     "data": {
      "text/html": [
       "<div>\n",
       "<style scoped>\n",
       "    .dataframe tbody tr th:only-of-type {\n",
       "        vertical-align: middle;\n",
       "    }\n",
       "\n",
       "    .dataframe tbody tr th {\n",
       "        vertical-align: top;\n",
       "    }\n",
       "\n",
       "    .dataframe thead th {\n",
       "        text-align: right;\n",
       "    }\n",
       "</style>\n",
       "<table border=\"1\" class=\"dataframe\">\n",
       "  <thead>\n",
       "    <tr style=\"text-align: right;\">\n",
       "      <th></th>\n",
       "      <th>sales_id</th>\n",
       "      <th>order_id</th>\n",
       "      <th>realorderdate</th>\n",
       "      <th>order_priority</th>\n",
       "      <th>order_quantity</th>\n",
       "      <th>sales</th>\n",
       "      <th>discount</th>\n",
       "      <th>ship_mode</th>\n",
       "      <th>profit</th>\n",
       "      <th>unit_price</th>\n",
       "      <th>...</th>\n",
       "      <th>first_name</th>\n",
       "      <th>last_name</th>\n",
       "      <th>region</th>\n",
       "      <th>customer_segment</th>\n",
       "      <th>product_category</th>\n",
       "      <th>product_sub-category</th>\n",
       "      <th>product_container</th>\n",
       "      <th>ship_date</th>\n",
       "      <th>birth_date</th>\n",
       "      <th>order_status</th>\n",
       "    </tr>\n",
       "  </thead>\n",
       "  <tbody>\n",
       "    <tr>\n",
       "      <th>1359</th>\n",
       "      <td>1363</td>\n",
       "      <td>9922</td>\n",
       "      <td>04/03/2011</td>\n",
       "      <td>Not Specified</td>\n",
       "      <td>24</td>\n",
       "      <td>6408.30</td>\n",
       "      <td>0.10</td>\n",
       "      <td>Delivery Truck</td>\n",
       "      <td>539.54</td>\n",
       "      <td>280.98</td>\n",
       "      <td>...</td>\n",
       "      <td>Jack</td>\n",
       "      <td>O'Briant</td>\n",
       "      <td>Atlantic</td>\n",
       "      <td>Consumer</td>\n",
       "      <td>Furniture</td>\n",
       "      <td>Tables</td>\n",
       "      <td>Jumbo Box</td>\n",
       "      <td>04/04/2011</td>\n",
       "      <td>2/19/1974</td>\n",
       "      <td>Delivered</td>\n",
       "    </tr>\n",
       "    <tr>\n",
       "      <th>5752</th>\n",
       "      <td>7695</td>\n",
       "      <td>55171</td>\n",
       "      <td>10/26/2012</td>\n",
       "      <td>High</td>\n",
       "      <td>29</td>\n",
       "      <td>575.89</td>\n",
       "      <td>0.06</td>\n",
       "      <td>Regular Air</td>\n",
       "      <td>-14.04</td>\n",
       "      <td>19.98</td>\n",
       "      <td>...</td>\n",
       "      <td>Jennifer</td>\n",
       "      <td>Jackson</td>\n",
       "      <td>Prarie</td>\n",
       "      <td>Home Office</td>\n",
       "      <td>Technology</td>\n",
       "      <td>Computer Peripherals</td>\n",
       "      <td>Small Box</td>\n",
       "      <td>10/27/2012</td>\n",
       "      <td>2/27/1977</td>\n",
       "      <td>Delivered</td>\n",
       "    </tr>\n",
       "  </tbody>\n",
       "</table>\n",
       "<p>2 rows × 21 columns</p>\n",
       "</div>"
      ],
      "text/plain": [
       "      sales_id  order_id realorderdate order_priority  order_quantity  \\\n",
       "1359      1363      9922    04/03/2011  Not Specified              24   \n",
       "5752      7695     55171    10/26/2012           High              29   \n",
       "\n",
       "        sales  discount       ship_mode  profit  unit_price  ...  first_name  \\\n",
       "1359  6408.30      0.10  Delivery Truck  539.54      280.98  ...        Jack   \n",
       "5752   575.89      0.06     Regular Air  -14.04       19.98  ...    Jennifer   \n",
       "\n",
       "     last_name    region customer_segment product_category  \\\n",
       "1359  O'Briant  Atlantic         Consumer        Furniture   \n",
       "5752   Jackson    Prarie      Home Office       Technology   \n",
       "\n",
       "      product_sub-category product_container   ship_date birth_date  \\\n",
       "1359                Tables         Jumbo Box  04/04/2011  2/19/1974   \n",
       "5752  Computer Peripherals         Small Box  10/27/2012  2/27/1977   \n",
       "\n",
       "     order_status  \n",
       "1359    Delivered  \n",
       "5752    Delivered  \n",
       "\n",
       "[2 rows x 21 columns]"
      ]
     },
     "execution_count": 46,
     "metadata": {},
     "output_type": "execute_result"
    }
   ],
   "source": [
    "## testing\n",
    "new_transaction.sample(2)"
   ]
  },
  {
   "cell_type": "code",
   "execution_count": 47,
   "id": "332f5ac9",
   "metadata": {
    "slideshow": {
     "slide_type": "skip"
    }
   },
   "outputs": [
    {
     "data": {
      "text/plain": [
       "array(['Nunavut', 'Northwest Territories', 'Atlantic', 'Prarie', 'West',\n",
       "       'Ontario', 'Quebec', 'Yukon'], dtype=object)"
      ]
     },
     "execution_count": 47,
     "metadata": {},
     "output_type": "execute_result"
    }
   ],
   "source": [
    "## unique column values in the new transaction table\n",
    "new_transaction.region.unique()"
   ]
  },
  {
   "cell_type": "code",
   "execution_count": 48,
   "id": "22feed49",
   "metadata": {
    "slideshow": {
     "slide_type": "skip"
    }
   },
   "outputs": [],
   "source": [
    "## Create a new column to include the manager from the manager table by using function\n",
    "def categorise(row):  \n",
    "    if row['region'] == 'Nunavut':\n",
    "        return 'Chris'\n",
    "    elif row['region'] == 'Northwest Territories':\n",
    "        return 'Erin'\n",
    "    elif row['region'] == 'Atlantic':\n",
    "        return 'Sam'\n",
    "    elif row['region'] == 'Prarie':\n",
    "        return 'William'\n",
    "    return 'Pat'"
   ]
  },
  {
   "cell_type": "code",
   "execution_count": 49,
   "id": "3a0679c9",
   "metadata": {
    "slideshow": {
     "slide_type": "skip"
    }
   },
   "outputs": [],
   "source": [
    "## Applying the function to create a new column on the transaction table that includes the manager\n",
    "new_transaction['manager'] = new_transaction.apply(lambda row: categorise(row), axis=1)"
   ]
  },
  {
   "cell_type": "code",
   "execution_count": 50,
   "id": "0c702df9",
   "metadata": {
    "slideshow": {
     "slide_type": "skip"
    }
   },
   "outputs": [
    {
     "data": {
      "text/html": [
       "<div>\n",
       "<style scoped>\n",
       "    .dataframe tbody tr th:only-of-type {\n",
       "        vertical-align: middle;\n",
       "    }\n",
       "\n",
       "    .dataframe tbody tr th {\n",
       "        vertical-align: top;\n",
       "    }\n",
       "\n",
       "    .dataframe thead th {\n",
       "        text-align: right;\n",
       "    }\n",
       "</style>\n",
       "<table border=\"1\" class=\"dataframe\">\n",
       "  <thead>\n",
       "    <tr style=\"text-align: right;\">\n",
       "      <th></th>\n",
       "      <th>sales_id</th>\n",
       "      <th>order_id</th>\n",
       "      <th>realorderdate</th>\n",
       "      <th>order_priority</th>\n",
       "      <th>order_quantity</th>\n",
       "      <th>sales</th>\n",
       "      <th>discount</th>\n",
       "      <th>ship_mode</th>\n",
       "      <th>profit</th>\n",
       "      <th>unit_price</th>\n",
       "      <th>...</th>\n",
       "      <th>last_name</th>\n",
       "      <th>region</th>\n",
       "      <th>customer_segment</th>\n",
       "      <th>product_category</th>\n",
       "      <th>product_sub-category</th>\n",
       "      <th>product_container</th>\n",
       "      <th>ship_date</th>\n",
       "      <th>birth_date</th>\n",
       "      <th>order_status</th>\n",
       "      <th>manager</th>\n",
       "    </tr>\n",
       "  </thead>\n",
       "  <tbody>\n",
       "    <tr>\n",
       "      <th>7108</th>\n",
       "      <td>5859</td>\n",
       "      <td>41574</td>\n",
       "      <td>9/20/2010</td>\n",
       "      <td>High</td>\n",
       "      <td>23</td>\n",
       "      <td>283.82</td>\n",
       "      <td>0.01</td>\n",
       "      <td>Regular Air</td>\n",
       "      <td>-38.94</td>\n",
       "      <td>11.97</td>\n",
       "      <td>...</td>\n",
       "      <td>Murry</td>\n",
       "      <td>West</td>\n",
       "      <td>Corporate</td>\n",
       "      <td>Office Supplies</td>\n",
       "      <td>Pens &amp; Art Supplies</td>\n",
       "      <td>Small Pack</td>\n",
       "      <td>9/22/2010</td>\n",
       "      <td>08/04/1955</td>\n",
       "      <td>Delivered</td>\n",
       "      <td>Pat</td>\n",
       "    </tr>\n",
       "  </tbody>\n",
       "</table>\n",
       "<p>1 rows × 22 columns</p>\n",
       "</div>"
      ],
      "text/plain": [
       "      sales_id  order_id realorderdate order_priority  order_quantity   sales  \\\n",
       "7108      5859     41574     9/20/2010           High              23  283.82   \n",
       "\n",
       "      discount    ship_mode  profit  unit_price  ...  last_name region  \\\n",
       "7108      0.01  Regular Air  -38.94       11.97  ...      Murry   West   \n",
       "\n",
       "     customer_segment product_category product_sub-category product_container  \\\n",
       "7108        Corporate  Office Supplies  Pens & Art Supplies        Small Pack   \n",
       "\n",
       "      ship_date  birth_date order_status manager  \n",
       "7108  9/22/2010  08/04/1955    Delivered     Pat  \n",
       "\n",
       "[1 rows x 22 columns]"
      ]
     },
     "execution_count": 50,
     "metadata": {},
     "output_type": "execute_result"
    }
   ],
   "source": [
    "## Testing\n",
    "new_transaction.sample(1)"
   ]
  },
  {
   "cell_type": "markdown",
   "id": "676a909a",
   "metadata": {
    "slideshow": {
     "slide_type": "skip"
    }
   },
   "source": [
    "## Issue 4\n",
    "\n",
    "Erroneous data types"
   ]
  },
  {
   "cell_type": "code",
   "execution_count": 51,
   "id": "512f9f06",
   "metadata": {
    "slideshow": {
     "slide_type": "skip"
    }
   },
   "outputs": [],
   "source": [
    "## Fixing erroneous datatypes\n",
    "new_transaction['sales_id'] = transaction_c['sales_id'].astype(str)\n",
    "new_transaction['order_id'] = transaction_c['order_id'].astype(str)\n",
    "new_transaction['realorderdate'] = pd.to_datetime(transaction_c['realorderdate'])\n",
    "new_transaction['ship_date'] = pd.to_datetime(transaction_c['ship_date'])\n",
    "new_transaction['birth_date'] = pd.to_datetime(transaction_c['birth_date'])"
   ]
  },
  {
   "cell_type": "code",
   "execution_count": 52,
   "id": "109f5c3a",
   "metadata": {
    "slideshow": {
     "slide_type": "skip"
    }
   },
   "outputs": [],
   "source": [
    "## Converting sales column to int\n",
    "new_transaction['sales'] = transaction_c['sales'].astype(int)\n",
    "## Converting shipping cost column to int\n",
    "new_transaction['shipping_cost'] = transaction_c['shipping_cost'].astype(int)\n",
    "## Converting profit from float to int\n",
    "new_transaction['profit'] = transaction_c['profit'].astype(int)\n",
    "## converting customer_segment from str to cat data type\n",
    "new_transaction['customer_segment'] = transaction_c['customer_segment'].astype('category')"
   ]
  },
  {
   "cell_type": "code",
   "execution_count": 55,
   "id": "839d6d8d",
   "metadata": {
    "slideshow": {
     "slide_type": "skip"
    }
   },
   "outputs": [
    {
     "name": "stdout",
     "output_type": "stream",
     "text": [
      "<class 'pandas.core.frame.DataFrame'>\n",
      "Int64Index: 8399 entries, 0 to 8398\n",
      "Data columns (total 22 columns):\n",
      " #   Column                Non-Null Count  Dtype         \n",
      "---  ------                --------------  -----         \n",
      " 0   sales_id              8399 non-null   object        \n",
      " 1   order_id              8399 non-null   object        \n",
      " 2   realorderdate         8399 non-null   datetime64[ns]\n",
      " 3   order_priority        8399 non-null   object        \n",
      " 4   order_quantity        8399 non-null   int64         \n",
      " 5   sales                 8399 non-null   int32         \n",
      " 6   discount              8399 non-null   float64       \n",
      " 7   ship_mode             8399 non-null   object        \n",
      " 8   profit                8399 non-null   int32         \n",
      " 9   unit_price            8399 non-null   float64       \n",
      " 10  shipping_cost         8399 non-null   int32         \n",
      " 11  first_name            8399 non-null   object        \n",
      " 12  last_name             8399 non-null   object        \n",
      " 13  region                8399 non-null   object        \n",
      " 14  customer_segment      8399 non-null   category      \n",
      " 15  product_category      8399 non-null   object        \n",
      " 16  product_sub-category  8399 non-null   object        \n",
      " 17  product_container     8399 non-null   object        \n",
      " 18  ship_date             8399 non-null   datetime64[ns]\n",
      " 19  birth_date            8369 non-null   datetime64[ns]\n",
      " 20  order_status          8399 non-null   object        \n",
      " 21  manager               8399 non-null   object        \n",
      "dtypes: category(1), datetime64[ns](3), float64(2), int32(3), int64(1), object(12)\n",
      "memory usage: 1.3+ MB\n"
     ]
    }
   ],
   "source": [
    "## Testing\n",
    "new_transaction.info()"
   ]
  },
  {
   "cell_type": "markdown",
   "id": "f8459e5a",
   "metadata": {
    "slideshow": {
     "slide_type": "skip"
    }
   },
   "source": [
    "## Issue 5\n",
    "\n",
    "Date columns should be separated into day, month and year"
   ]
  },
  {
   "cell_type": "code",
   "execution_count": 56,
   "id": "adb6dea7",
   "metadata": {
    "slideshow": {
     "slide_type": "skip"
    }
   },
   "outputs": [],
   "source": [
    "## separate the day, month and year into different columns\n",
    "# For realorderdate\n",
    "new_transaction['salesday'] = new_transaction['realorderdate'].dt.day\n",
    "new_transaction['salesmonth'] = new_transaction['realorderdate'].dt.month\n",
    "new_transaction['salesyear'] = new_transaction['realorderdate'].dt.year"
   ]
  },
  {
   "cell_type": "code",
   "execution_count": 57,
   "id": "dcc2208a",
   "metadata": {
    "slideshow": {
     "slide_type": "skip"
    }
   },
   "outputs": [],
   "source": [
    "## for ship date\n",
    "new_transaction['shipday'] = new_transaction['ship_date'].dt.day\n",
    "new_transaction['shipmonth'] = new_transaction['ship_date'].dt.month\n",
    "new_transaction['shipyear'] = new_transaction['ship_date'].dt.year"
   ]
  },
  {
   "cell_type": "code",
   "execution_count": 58,
   "id": "56adf063",
   "metadata": {
    "slideshow": {
     "slide_type": "skip"
    }
   },
   "outputs": [],
   "source": [
    "## for birth date\n",
    "new_transaction['birthday'] = new_transaction['birth_date'].dt.day\n",
    "new_transaction['birthmonth'] = new_transaction['birth_date'].dt.month\n",
    "new_transaction['birthyear'] = new_transaction['birth_date'].dt.year"
   ]
  },
  {
   "cell_type": "code",
   "execution_count": 59,
   "id": "b9f90f33",
   "metadata": {
    "slideshow": {
     "slide_type": "skip"
    }
   },
   "outputs": [
    {
     "data": {
      "text/html": [
       "<div>\n",
       "<style scoped>\n",
       "    .dataframe tbody tr th:only-of-type {\n",
       "        vertical-align: middle;\n",
       "    }\n",
       "\n",
       "    .dataframe tbody tr th {\n",
       "        vertical-align: top;\n",
       "    }\n",
       "\n",
       "    .dataframe thead th {\n",
       "        text-align: right;\n",
       "    }\n",
       "</style>\n",
       "<table border=\"1\" class=\"dataframe\">\n",
       "  <thead>\n",
       "    <tr style=\"text-align: right;\">\n",
       "      <th></th>\n",
       "      <th>sales_id</th>\n",
       "      <th>order_id</th>\n",
       "      <th>realorderdate</th>\n",
       "      <th>order_priority</th>\n",
       "      <th>order_quantity</th>\n",
       "      <th>sales</th>\n",
       "      <th>discount</th>\n",
       "      <th>ship_mode</th>\n",
       "      <th>profit</th>\n",
       "      <th>unit_price</th>\n",
       "      <th>...</th>\n",
       "      <th>manager</th>\n",
       "      <th>salesday</th>\n",
       "      <th>salesmonth</th>\n",
       "      <th>salesyear</th>\n",
       "      <th>shipday</th>\n",
       "      <th>shipmonth</th>\n",
       "      <th>shipyear</th>\n",
       "      <th>birthday</th>\n",
       "      <th>birthmonth</th>\n",
       "      <th>birthyear</th>\n",
       "    </tr>\n",
       "  </thead>\n",
       "  <tbody>\n",
       "    <tr>\n",
       "      <th>3238</th>\n",
       "      <td>6759</td>\n",
       "      <td>48161</td>\n",
       "      <td>2011-05-23</td>\n",
       "      <td>Not Specified</td>\n",
       "      <td>39</td>\n",
       "      <td>6030</td>\n",
       "      <td>0.09</td>\n",
       "      <td>Regular Air</td>\n",
       "      <td>1197</td>\n",
       "      <td>195.99</td>\n",
       "      <td>...</td>\n",
       "      <td>Pat</td>\n",
       "      <td>23</td>\n",
       "      <td>5</td>\n",
       "      <td>2011</td>\n",
       "      <td>24</td>\n",
       "      <td>5</td>\n",
       "      <td>2011</td>\n",
       "      <td>4.0</td>\n",
       "      <td>6.0</td>\n",
       "      <td>1974.0</td>\n",
       "    </tr>\n",
       "  </tbody>\n",
       "</table>\n",
       "<p>1 rows × 31 columns</p>\n",
       "</div>"
      ],
      "text/plain": [
       "     sales_id order_id realorderdate order_priority  order_quantity  sales  \\\n",
       "3238     6759    48161    2011-05-23  Not Specified              39   6030   \n",
       "\n",
       "      discount    ship_mode  profit  unit_price  ...  manager salesday  \\\n",
       "3238      0.09  Regular Air    1197      195.99  ...      Pat       23   \n",
       "\n",
       "     salesmonth salesyear shipday shipmonth shipyear birthday birthmonth  \\\n",
       "3238          5      2011      24         5     2011      4.0        6.0   \n",
       "\n",
       "     birthyear  \n",
       "3238    1974.0  \n",
       "\n",
       "[1 rows x 31 columns]"
      ]
     },
     "execution_count": 59,
     "metadata": {},
     "output_type": "execute_result"
    }
   ],
   "source": [
    "## Testing\n",
    "new_transaction.sample(1)"
   ]
  },
  {
   "cell_type": "markdown",
   "id": "223793c6",
   "metadata": {
    "slideshow": {
     "slide_type": "skip"
    }
   },
   "source": [
    "## Issue 6\n",
    "\n",
    "The actual day and month of the week should be in a separate column"
   ]
  },
  {
   "cell_type": "code",
   "execution_count": 60,
   "id": "b8cafc5e",
   "metadata": {
    "slideshow": {
     "slide_type": "skip"
    }
   },
   "outputs": [],
   "source": [
    "## Getting the actual day(Monday...Sunday) and month(January...December) of each date\n",
    "new_transaction['day_of_sales'] = new_transaction['realorderdate'].dt.day_name()\n",
    "new_transaction['month_of_sales'] = new_transaction['realorderdate'].dt.month_name()\n",
    "new_transaction['day_of_ship'] = new_transaction['ship_date'].dt.day_name()\n",
    "new_transaction['month_of_ship'] = new_transaction['ship_date'].dt.month_name()\n",
    "new_transaction['day_of_birth'] = new_transaction['birth_date'].dt.day_name()\n",
    "new_transaction['month_of_birth'] = new_transaction['birth_date'].dt.month_name()"
   ]
  },
  {
   "cell_type": "code",
   "execution_count": 61,
   "id": "7c0e2144",
   "metadata": {
    "slideshow": {
     "slide_type": "skip"
    }
   },
   "outputs": [
    {
     "name": "stdout",
     "output_type": "stream",
     "text": [
      "<class 'pandas.core.frame.DataFrame'>\n",
      "Int64Index: 8399 entries, 0 to 8398\n",
      "Data columns (total 37 columns):\n",
      " #   Column                Non-Null Count  Dtype         \n",
      "---  ------                --------------  -----         \n",
      " 0   sales_id              8399 non-null   object        \n",
      " 1   order_id              8399 non-null   object        \n",
      " 2   realorderdate         8399 non-null   datetime64[ns]\n",
      " 3   order_priority        8399 non-null   object        \n",
      " 4   order_quantity        8399 non-null   int64         \n",
      " 5   sales                 8399 non-null   int32         \n",
      " 6   discount              8399 non-null   float64       \n",
      " 7   ship_mode             8399 non-null   object        \n",
      " 8   profit                8399 non-null   int32         \n",
      " 9   unit_price            8399 non-null   float64       \n",
      " 10  shipping_cost         8399 non-null   int32         \n",
      " 11  first_name            8399 non-null   object        \n",
      " 12  last_name             8399 non-null   object        \n",
      " 13  region                8399 non-null   object        \n",
      " 14  customer_segment      8399 non-null   category      \n",
      " 15  product_category      8399 non-null   object        \n",
      " 16  product_sub-category  8399 non-null   object        \n",
      " 17  product_container     8399 non-null   object        \n",
      " 18  ship_date             8399 non-null   datetime64[ns]\n",
      " 19  birth_date            8369 non-null   datetime64[ns]\n",
      " 20  order_status          8399 non-null   object        \n",
      " 21  manager               8399 non-null   object        \n",
      " 22  salesday              8399 non-null   int64         \n",
      " 23  salesmonth            8399 non-null   int64         \n",
      " 24  salesyear             8399 non-null   int64         \n",
      " 25  shipday               8399 non-null   int64         \n",
      " 26  shipmonth             8399 non-null   int64         \n",
      " 27  shipyear              8399 non-null   int64         \n",
      " 28  birthday              8369 non-null   float64       \n",
      " 29  birthmonth            8369 non-null   float64       \n",
      " 30  birthyear             8369 non-null   float64       \n",
      " 31  day_of_sales          8399 non-null   object        \n",
      " 32  month_of_sales        8399 non-null   object        \n",
      " 33  day_of_ship           8399 non-null   object        \n",
      " 34  month_of_ship         8399 non-null   object        \n",
      " 35  day_of_birth          8369 non-null   object        \n",
      " 36  month_of_birth        8369 non-null   object        \n",
      "dtypes: category(1), datetime64[ns](3), float64(5), int32(3), int64(7), object(18)\n",
      "memory usage: 2.3+ MB\n"
     ]
    }
   ],
   "source": [
    "## Testing\n",
    "new_transaction.info()"
   ]
  },
  {
   "cell_type": "code",
   "execution_count": 62,
   "id": "1c6a1e68",
   "metadata": {
    "slideshow": {
     "slide_type": "skip"
    }
   },
   "outputs": [
    {
     "data": {
      "text/html": [
       "<div>\n",
       "<style scoped>\n",
       "    .dataframe tbody tr th:only-of-type {\n",
       "        vertical-align: middle;\n",
       "    }\n",
       "\n",
       "    .dataframe tbody tr th {\n",
       "        vertical-align: top;\n",
       "    }\n",
       "\n",
       "    .dataframe thead th {\n",
       "        text-align: right;\n",
       "    }\n",
       "</style>\n",
       "<table border=\"1\" class=\"dataframe\">\n",
       "  <thead>\n",
       "    <tr style=\"text-align: right;\">\n",
       "      <th></th>\n",
       "      <th>sales_id</th>\n",
       "      <th>order_id</th>\n",
       "      <th>realorderdate</th>\n",
       "      <th>order_priority</th>\n",
       "      <th>order_quantity</th>\n",
       "      <th>sales</th>\n",
       "      <th>discount</th>\n",
       "      <th>ship_mode</th>\n",
       "      <th>profit</th>\n",
       "      <th>unit_price</th>\n",
       "      <th>...</th>\n",
       "      <th>shipyear</th>\n",
       "      <th>birthday</th>\n",
       "      <th>birthmonth</th>\n",
       "      <th>birthyear</th>\n",
       "      <th>day_of_sales</th>\n",
       "      <th>month_of_sales</th>\n",
       "      <th>day_of_ship</th>\n",
       "      <th>month_of_ship</th>\n",
       "      <th>day_of_birth</th>\n",
       "      <th>month_of_birth</th>\n",
       "    </tr>\n",
       "  </thead>\n",
       "  <tbody>\n",
       "    <tr>\n",
       "      <th>1713</th>\n",
       "      <td>8227</td>\n",
       "      <td>58789</td>\n",
       "      <td>2010-08-05</td>\n",
       "      <td>Low</td>\n",
       "      <td>38</td>\n",
       "      <td>377</td>\n",
       "      <td>0.02</td>\n",
       "      <td>Regular Air</td>\n",
       "      <td>-10</td>\n",
       "      <td>9.77</td>\n",
       "      <td>...</td>\n",
       "      <td>2010</td>\n",
       "      <td>9.0</td>\n",
       "      <td>6.0</td>\n",
       "      <td>1977.0</td>\n",
       "      <td>Thursday</td>\n",
       "      <td>August</td>\n",
       "      <td>Tuesday</td>\n",
       "      <td>August</td>\n",
       "      <td>Thursday</td>\n",
       "      <td>June</td>\n",
       "    </tr>\n",
       "    <tr>\n",
       "      <th>3091</th>\n",
       "      <td>166</td>\n",
       "      <td>1031</td>\n",
       "      <td>2009-08-31</td>\n",
       "      <td>Medium</td>\n",
       "      <td>34</td>\n",
       "      <td>226</td>\n",
       "      <td>0.00</td>\n",
       "      <td>Regular Air</td>\n",
       "      <td>-52</td>\n",
       "      <td>6.37</td>\n",
       "      <td>...</td>\n",
       "      <td>2009</td>\n",
       "      <td>13.0</td>\n",
       "      <td>8.0</td>\n",
       "      <td>1981.0</td>\n",
       "      <td>Monday</td>\n",
       "      <td>August</td>\n",
       "      <td>Wednesday</td>\n",
       "      <td>September</td>\n",
       "      <td>Thursday</td>\n",
       "      <td>August</td>\n",
       "    </tr>\n",
       "    <tr>\n",
       "      <th>6363</th>\n",
       "      <td>5465</td>\n",
       "      <td>38848</td>\n",
       "      <td>2012-12-16</td>\n",
       "      <td>High</td>\n",
       "      <td>6</td>\n",
       "      <td>259</td>\n",
       "      <td>0.06</td>\n",
       "      <td>Regular Air</td>\n",
       "      <td>45</td>\n",
       "      <td>43.41</td>\n",
       "      <td>...</td>\n",
       "      <td>2012</td>\n",
       "      <td>9.0</td>\n",
       "      <td>10.0</td>\n",
       "      <td>1972.0</td>\n",
       "      <td>Sunday</td>\n",
       "      <td>December</td>\n",
       "      <td>Monday</td>\n",
       "      <td>December</td>\n",
       "      <td>Monday</td>\n",
       "      <td>October</td>\n",
       "    </tr>\n",
       "    <tr>\n",
       "      <th>3636</th>\n",
       "      <td>3464</td>\n",
       "      <td>24672</td>\n",
       "      <td>2012-03-17</td>\n",
       "      <td>Medium</td>\n",
       "      <td>5</td>\n",
       "      <td>44</td>\n",
       "      <td>0.02</td>\n",
       "      <td>Regular Air</td>\n",
       "      <td>23</td>\n",
       "      <td>7.59</td>\n",
       "      <td>...</td>\n",
       "      <td>2012</td>\n",
       "      <td>4.0</td>\n",
       "      <td>7.0</td>\n",
       "      <td>1964.0</td>\n",
       "      <td>Saturday</td>\n",
       "      <td>March</td>\n",
       "      <td>Tuesday</td>\n",
       "      <td>March</td>\n",
       "      <td>Saturday</td>\n",
       "      <td>July</td>\n",
       "    </tr>\n",
       "    <tr>\n",
       "      <th>359</th>\n",
       "      <td>5662</td>\n",
       "      <td>40067</td>\n",
       "      <td>2012-02-17</td>\n",
       "      <td>Low</td>\n",
       "      <td>38</td>\n",
       "      <td>2157</td>\n",
       "      <td>0.00</td>\n",
       "      <td>Regular Air</td>\n",
       "      <td>519</td>\n",
       "      <td>65.99</td>\n",
       "      <td>...</td>\n",
       "      <td>2012</td>\n",
       "      <td>4.0</td>\n",
       "      <td>9.0</td>\n",
       "      <td>1982.0</td>\n",
       "      <td>Friday</td>\n",
       "      <td>February</td>\n",
       "      <td>Sunday</td>\n",
       "      <td>February</td>\n",
       "      <td>Saturday</td>\n",
       "      <td>September</td>\n",
       "    </tr>\n",
       "  </tbody>\n",
       "</table>\n",
       "<p>5 rows × 37 columns</p>\n",
       "</div>"
      ],
      "text/plain": [
       "     sales_id order_id realorderdate order_priority  order_quantity  sales  \\\n",
       "1713     8227    58789    2010-08-05            Low              38    377   \n",
       "3091      166     1031    2009-08-31         Medium              34    226   \n",
       "6363     5465    38848    2012-12-16           High               6    259   \n",
       "3636     3464    24672    2012-03-17         Medium               5     44   \n",
       "359      5662    40067    2012-02-17            Low              38   2157   \n",
       "\n",
       "      discount    ship_mode  profit  unit_price  ...  shipyear birthday  \\\n",
       "1713      0.02  Regular Air     -10        9.77  ...      2010      9.0   \n",
       "3091      0.00  Regular Air     -52        6.37  ...      2009     13.0   \n",
       "6363      0.06  Regular Air      45       43.41  ...      2012      9.0   \n",
       "3636      0.02  Regular Air      23        7.59  ...      2012      4.0   \n",
       "359       0.00  Regular Air     519       65.99  ...      2012      4.0   \n",
       "\n",
       "     birthmonth birthyear day_of_sales month_of_sales day_of_ship  \\\n",
       "1713        6.0    1977.0     Thursday         August     Tuesday   \n",
       "3091        8.0    1981.0       Monday         August   Wednesday   \n",
       "6363       10.0    1972.0       Sunday       December      Monday   \n",
       "3636        7.0    1964.0     Saturday          March     Tuesday   \n",
       "359         9.0    1982.0       Friday       February      Sunday   \n",
       "\n",
       "     month_of_ship day_of_birth month_of_birth  \n",
       "1713        August     Thursday           June  \n",
       "3091     September     Thursday         August  \n",
       "6363      December       Monday        October  \n",
       "3636         March     Saturday           July  \n",
       "359       February     Saturday      September  \n",
       "\n",
       "[5 rows x 37 columns]"
      ]
     },
     "execution_count": 62,
     "metadata": {},
     "output_type": "execute_result"
    }
   ],
   "source": [
    "## Double testing\n",
    "new_transaction.sample(5)"
   ]
  },
  {
   "cell_type": "markdown",
   "id": "b775c45a",
   "metadata": {
    "slideshow": {
     "slide_type": "skip"
    }
   },
   "source": [
    "## Issue 7\n",
    "\n",
    "Null values"
   ]
  },
  {
   "cell_type": "code",
   "execution_count": 63,
   "id": "fc8fc0f3",
   "metadata": {
    "slideshow": {
     "slide_type": "skip"
    }
   },
   "outputs": [
    {
     "data": {
      "text/plain": [
       "sales_id                 0\n",
       "order_id                 0\n",
       "realorderdate            0\n",
       "order_priority           0\n",
       "order_quantity           0\n",
       "sales                    0\n",
       "discount                 0\n",
       "ship_mode                0\n",
       "profit                   0\n",
       "unit_price               0\n",
       "shipping_cost            0\n",
       "first_name               0\n",
       "last_name                0\n",
       "region                   0\n",
       "customer_segment         0\n",
       "product_category         0\n",
       "product_sub-category     0\n",
       "product_container        0\n",
       "ship_date                0\n",
       "birth_date              30\n",
       "order_status             0\n",
       "manager                  0\n",
       "salesday                 0\n",
       "salesmonth               0\n",
       "salesyear                0\n",
       "shipday                  0\n",
       "shipmonth                0\n",
       "shipyear                 0\n",
       "birthday                30\n",
       "birthmonth              30\n",
       "birthyear               30\n",
       "day_of_sales             0\n",
       "month_of_sales           0\n",
       "day_of_ship              0\n",
       "month_of_ship            0\n",
       "day_of_birth            30\n",
       "month_of_birth          30\n",
       "dtype: int64"
      ]
     },
     "execution_count": 63,
     "metadata": {},
     "output_type": "execute_result"
    }
   ],
   "source": [
    "## Check for null values\n",
    "new_transaction.isnull().sum()"
   ]
  },
  {
   "cell_type": "code",
   "execution_count": 64,
   "id": "9ab26120",
   "metadata": {
    "slideshow": {
     "slide_type": "skip"
    }
   },
   "outputs": [],
   "source": [
    "## Drop null values\n",
    "new_transaction.dropna(inplace=True)"
   ]
  },
  {
   "cell_type": "code",
   "execution_count": 65,
   "id": "2d407cd5",
   "metadata": {
    "slideshow": {
     "slide_type": "skip"
    }
   },
   "outputs": [
    {
     "data": {
      "text/plain": [
       "sales_id                0\n",
       "order_id                0\n",
       "realorderdate           0\n",
       "order_priority          0\n",
       "order_quantity          0\n",
       "sales                   0\n",
       "discount                0\n",
       "ship_mode               0\n",
       "profit                  0\n",
       "unit_price              0\n",
       "shipping_cost           0\n",
       "first_name              0\n",
       "last_name               0\n",
       "region                  0\n",
       "customer_segment        0\n",
       "product_category        0\n",
       "product_sub-category    0\n",
       "product_container       0\n",
       "ship_date               0\n",
       "birth_date              0\n",
       "order_status            0\n",
       "manager                 0\n",
       "salesday                0\n",
       "salesmonth              0\n",
       "salesyear               0\n",
       "shipday                 0\n",
       "shipmonth               0\n",
       "shipyear                0\n",
       "birthday                0\n",
       "birthmonth              0\n",
       "birthyear               0\n",
       "day_of_sales            0\n",
       "month_of_sales          0\n",
       "day_of_ship             0\n",
       "month_of_ship           0\n",
       "day_of_birth            0\n",
       "month_of_birth          0\n",
       "dtype: int64"
      ]
     },
     "execution_count": 65,
     "metadata": {},
     "output_type": "execute_result"
    }
   ],
   "source": [
    "## Testing\n",
    "new_transaction.isnull().sum()"
   ]
  },
  {
   "cell_type": "markdown",
   "id": "e9e772af",
   "metadata": {
    "slideshow": {
     "slide_type": "skip"
    }
   },
   "source": [
    "## Issue 8\n",
    "\n",
    "Empty values in the ship_mode column should be replaced with 'unknown'"
   ]
  },
  {
   "cell_type": "code",
   "execution_count": 66,
   "id": "6d8279cc",
   "metadata": {
    "slideshow": {
     "slide_type": "skip"
    }
   },
   "outputs": [],
   "source": [
    "## Replacing '' in the ship mode column with unknown\n",
    "new_transaction['ship_mode'] = new_transaction['ship_mode'].replace([\"''\"], \"unknown\")"
   ]
  },
  {
   "cell_type": "code",
   "execution_count": 67,
   "id": "53e3b9bb",
   "metadata": {
    "slideshow": {
     "slide_type": "skip"
    }
   },
   "outputs": [
    {
     "data": {
      "text/plain": [
       "array(['Regular Air', 'Delivery Truck', 'Express Air', 'unknown'],\n",
       "      dtype=object)"
      ]
     },
     "execution_count": 67,
     "metadata": {},
     "output_type": "execute_result"
    }
   ],
   "source": [
    "## Testing\n",
    "new_transaction.ship_mode.unique()"
   ]
  },
  {
   "cell_type": "markdown",
   "id": "959050f1",
   "metadata": {
    "slideshow": {
     "slide_type": "skip"
    }
   },
   "source": [
    "## Issue 9\n",
    "\n",
    "The first and last name should be in a single column"
   ]
  },
  {
   "cell_type": "code",
   "execution_count": 68,
   "id": "77dcf758",
   "metadata": {
    "slideshow": {
     "slide_type": "skip"
    }
   },
   "outputs": [],
   "source": [
    "## Merging the first and last name into a single column\n",
    "new_transaction['full_name'] = np.where(new_transaction[['first_name', 'last_name']].eq('').any(axis=1),\n",
    "                           new_transaction['order_id'],\n",
    "                           new_transaction[['first_name', 'last_name']].apply(' '.join, axis=1))"
   ]
  },
  {
   "cell_type": "code",
   "execution_count": 69,
   "id": "2145a5db",
   "metadata": {
    "slideshow": {
     "slide_type": "skip"
    }
   },
   "outputs": [
    {
     "data": {
      "text/plain": [
       "array(['Muhammed MacIntyre', 'Barry French', 'Clay Rozendal',\n",
       "       'Carlos Soltero', 'Carl Jackson', 'Monica Federle',\n",
       "       'Neola Schneider', 'Carlos Daly', 'Claudia Miner',\n",
       "       'Allen Rosenblatt', 'Sylvia Foulston', 'Jim Radford',\n",
       "       'Carl Ludwig', 'Don Miller', 'Annie Cyprus', 'Grant Carroll',\n",
       "       'Alan Barnes', 'Jack Garza', 'Julia West', 'Eugene Barchas',\n",
       "       'Edward Hooks', 'Brad Eason', 'Nicole Hansen', 'Dorothy Wardle',\n",
       "       'Aaron Bergman', 'Don Jones', 'Beth Thompson', 'Frank Price',\n",
       "       'Michelle Lonsdale', 'Ann Chong', 'Joy Bell', 'Skye Norling',\n",
       "       'Barry Weirich', 'Adrian Hane', 'Andrew Gjertsen', 'Ralph Knight',\n",
       "       'Beth Paige', 'Bryan Davis', 'Delfina Latchford', 'Doug Bickford',\n",
       "       'Jamie Kunitz', 'Anthony Johnson', 'Brendan Dodson',\n",
       "       'Hunter Glantz', 'Dorothy Badders', 'Thomas Seio', 'Becky Castell',\n",
       "       'Cari Schnelling', 'Chad Cunningham', 'Bryan Mills', 'Rick Reed',\n",
       "       'Heather Kirkland', 'Fred Wasserman', 'Jack Lebron',\n",
       "       'Mike Pelletier', 'Charles McCrossin', 'Charlotte Melton',\n",
       "       'Henry Goldwyn', 'Roy Skaria', 'Jeremy Lonsdale',\n",
       "       'Cindy Schnelling', 'Susan Vittorini', 'Toby Braunhardt',\n",
       "       'Ralph Arnett', 'Harold Engle', 'Roy French', 'Helen Abelman',\n",
       "       'Guy Armstrong', 'Jennifer Braxton', 'Giulietta Baptist',\n",
       "       'Erica Bern', 'Christopher Schild', 'Joy Smith', 'Evan Minnotte',\n",
       "       'Jenna Caffey', 'Hilary Holden', 'Greg Guthrie', 'Dan Reichenbach',\n",
       "       'Paul Gonzalez', 'Filia McAdams', 'Chuck Magee', 'Frank Atkinson',\n",
       "       'Philip Brown', 'Jim Sink', 'Logan Haushalter', 'Noah Childs',\n",
       "       'Brian Moss', 'Julie Creighton', 'Sanjit Chand', 'Matt Collins',\n",
       "       'Justin Knight', 'Rob Haberlin', 'Christina Vanderzanden',\n",
       "       'Lena Cacioppo', 'Kimberly Carter', 'Gene Hale', 'Sally Knutson',\n",
       "       'Marina Lichtenstein', 'Michelle Arnett', 'Seth Vernon',\n",
       "       'Luke Weiss', 'Christina DeMoss', 'Sonia Sunley',\n",
       "       \"Anthony O'Donnell\", 'Emily Grady', 'Alex Avila', 'Anna Andreadi',\n",
       "       'Barbara Fisher', 'Kelly Williams', 'Jocasta Rupert',\n",
       "       'Rick Duston', 'Angele Hood', 'Dennis Bolton',\n",
       "       'Stewart Carmichael', 'Sarah Foster', 'Jim Karlsson',\n",
       "       'Lisa DeCherney', 'Peter Buhler', 'Daniel Lacy',\n",
       "       'Giulietta Weimer', 'Mike Vittorini', 'Lela Donovan',\n",
       "       'Shahid Shariari', 'Trudy Schmidt', 'Christopher Martinez',\n",
       "       'Marc Harrigan', 'Liz Price', 'Ralph Kennedy', 'Rob Dowd',\n",
       "       'Khloe Miller', 'Shahid Hopkins', 'Kristina Nunn',\n",
       "       'Ricardo Emerson', \"Patrick O'Brill\", 'Thomas Brumley',\n",
       "       'Vicky Freymann', 'Tony Chapman', 'Sarah Bern', 'Mark Cousins',\n",
       "       'Daniel Byrd', 'John Murray', 'Lena Hernandez', 'Greg Maxwell',\n",
       "       'Justin Hirsh', 'Heather Jas', 'Philisse Overcash', 'Neil Knudson',\n",
       "       'Cathy Armstrong', 'Chuck Clark', 'Bill Eplett', 'John Grady',\n",
       "       'Tanja Norvell', 'Paul MacIntyre', 'Matt Abelman', 'Sarah Jordon',\n",
       "       'Sally Matthias', 'Theone Pippenger', 'Art Ferguson',\n",
       "       \"Jack O'Briant\", 'Nathan Cano', 'Michael Granlund',\n",
       "       'Steve Carroll', 'Scott Williamson', 'Sean Wendt', 'John Castell',\n",
       "       'David Philippe', 'Chad Sievert', 'Shaun Weien', 'Maya Herman',\n",
       "       'Ivan Liston', 'Brad Norvell', 'Ken Heidel', 'Mike Kennedy',\n",
       "       'Charles Sheldon', 'Brian Derr', 'Roland Black', 'Dana Kaydos',\n",
       "       'Darren Koutras', 'Neil Ducich', 'Parhena Norris', 'Bart Watters',\n",
       "       \"Mary O'Rourke\", 'Hunter Lopez', 'Nathan Mautz', 'Aaron Smayling',\n",
       "       'Joel Jenkins', \"Meg O'Connel\", 'Hallie Redmond', 'Liz Thompson',\n",
       "       'Robert Waldorf', 'Helen Andreada', 'Julia Dunbar',\n",
       "       'Christine Sundaresam', 'Bruce Stewart', 'Guy Thornton',\n",
       "       'Mary Zewe', 'Ken Lonsdale', 'Maria Bertelson', 'Brian Thompson',\n",
       "       'Jason Gross', 'Katrina Bavinger', 'Ivan Gibson', 'Joseph Airdo',\n",
       "       'Lycoris Saunders', 'Dorothy Dickinson', 'Janet Molinari',\n",
       "       'Julie Prescott', 'Annie Thurman', 'Rob Beeghly', \"Doug O'Connell\",\n",
       "       'Craig Carroll', 'Liz MacKendrick', 'Christine Kargatis',\n",
       "       'Bobby Odegard', 'Russell Applegate', 'Bill Donatelli',\n",
       "       'Duane Benoit', 'Harold Pawlan', 'Adam Bellavance', 'Cari Sayre',\n",
       "       \"Sean O'Donnell\", 'Sandra Glassco', 'Shirley Schmidt',\n",
       "       'Rick Wilson', 'Pauline Chand', 'Jennifer Halladay',\n",
       "       'Ritsa Hightower', 'Joni Blumstein', 'Pete Armstrong',\n",
       "       'Anna Gayman', 'Nat Gilpin', \"Rose O'Brian\", 'Daniel Raglin',\n",
       "       'Corinna Mitchell', 'Eva Jacobs', \"Jas O'Carroll\", 'Paul Prost',\n",
       "       'Michael Nguyen', 'Tamara Dahlen', 'Erin Creighton',\n",
       "       'Henry MacAllister', 'Candace McMahon', 'Tamara Chand',\n",
       "       'Duane Huffman', 'Edward Nazzal', 'Kelly Lampkin', 'Anthony Witt',\n",
       "       'Ted Trevino', 'Ed Ludwig', 'Jeremy Ellison', 'Alan Hwang',\n",
       "       'Eileen Kiefer', 'James Lanier', 'Edward Becker', 'Gary Zandusky',\n",
       "       'Ann Blume', 'Erin Smith', 'Allen Golden', 'Frank Carlisle',\n",
       "       'Gary Hansen', 'Nancy Lomonaco', 'Anna Haberlin', 'Erin Ashbrook',\n",
       "       'Darren Budd', 'Bill Stewart', 'Christine Phan',\n",
       "       'Eugene Hildebrand', 'Melanie Page', 'Jesus Ocampo',\n",
       "       'Darren Powers', 'Patrick Bzostek', 'Grace Kelly', 'Dan Lawera',\n",
       "       'George Ashbrook', 'Dave Hallsten', 'Arthur Wiediger',\n",
       "       'Jim Mitchum', 'Andy Yotov', 'Frank Hawley', 'Theresa Coyne',\n",
       "       'David Smith', 'Naresj Patel', 'Ruben Ausman', 'Larry Hughes',\n",
       "       'Magdelene Morse', 'Jonathan Howell', 'Linda Cazamias',\n",
       "       'Nat Carroll', 'Gary Mitchum', 'Matt Hagelstein', 'Andy Reiter',\n",
       "       'Mike Caudle', 'Cynthia Arntzen', 'Brian Stugart', 'George Bell',\n",
       "       'Joni Sundaresam', 'Michelle Huthwaite', 'Amy Cox',\n",
       "       'Cari MacIntyre', 'Eudokia Martin', 'Fred Hopkins', 'Aimee Bixby',\n",
       "       'Anemone Ratner', 'Chris Selesnick', 'Noel Staavos', 'Dean Braden',\n",
       "       'Lena Creighton', 'Matt Collister', 'Erica Smith', 'Janet Martin',\n",
       "       'Andrew Roberts', 'Michael Dominguez', 'Thomas Boland',\n",
       "       'Olvera Toch', 'Lena Radford', 'Sean Christensen', 'Todd Boyes',\n",
       "       'Sean Miller', 'Phillip Breyer', 'Michelle Ellison', 'Scot Coram',\n",
       "       'Natalie Fritzler', 'Nathan Gelder', 'Patricia Hirasaki',\n",
       "       'Maria Zettner', 'Matthew Clasen', \"Patrick O'Donnell\",\n",
       "       'Harry Marie', 'Victoria Wilson', 'Shahid Collister',\n",
       "       'Thea Hendricks', 'Corey Catlett', 'Ed Jacobs', 'Keith Herrera',\n",
       "       'Carlos Meador', 'Raymond Fair', 'Karl Brown', 'Natalie Webber',\n",
       "       'Eric Barreto', 'Barry Franz', 'Craig Yedwab', 'Chuck Sachs',\n",
       "       'Muhammed Lee', 'Bobby Trafton', 'David Flashing', 'Troy Staebel',\n",
       "       'Nora Paige', 'Harold Dahlen', 'Jay Fine', 'Dan Campbell',\n",
       "       'George Zrebassa', 'Eleni McCrary', 'Astrea Jones',\n",
       "       'Giulietta Dortch', 'Cathy Hwang', 'Damala Kotsonis',\n",
       "       'Dianna Arnett', 'Fred McMath', 'Christy Brittain', 'Tom Prescott',\n",
       "       'Yana Sorensen', 'Brad Thomas', 'Cynthia Voltz', 'Dean Percer',\n",
       "       'Ben Peterman', 'Tracy Poddar', 'Michael Paige', 'Corey Roper',\n",
       "       'Maureen Gastineau', 'Muhammed Yedwab', 'Alex Grayson',\n",
       "       'Chris Cortes', 'Sara Luxemburg', 'Eric Murdock', 'Paul Knutson',\n",
       "       'Nicole Brennan', 'Jennifer Patt', 'Elpida Rittenbach',\n",
       "       'David Wiener', 'Peter McVee', 'Karen Carlisle',\n",
       "       'Stefania Perrino', 'Paul Lucas', 'Evan Henry', 'Alyssa Tate',\n",
       "       'Michael Stewart', 'Shirley Jackson', 'Katherine Murray',\n",
       "       'Berenike Kampe', 'Erica Hernandez', 'Tony Molinari',\n",
       "       'Elizabeth Moffitt', 'Deanra Eno', 'Mark Packer', 'Alan Shonely',\n",
       "       'Katrina Willman', 'Anthony Garverick', 'Aaron Hawkins',\n",
       "       'Dave Poirier', 'Bradley Drucker', 'Mark Haberlin',\n",
       "       'Brendan Murry', 'Emily Burns', 'Michael Oakman',\n",
       "       'Deborah Brumfield', 'Robert Barroso', 'Darrin Sayre',\n",
       "       'Michael Kennedy', 'Marc Crier', 'Bobby Elias', 'Joni Wasserman',\n",
       "       'Karen Ferguson', 'Bradley Talbott', 'Julia Barnett', 'Emily Phan',\n",
       "       'Liz Willingham', 'Denise Leinenbach', 'Bill Tyler',\n",
       "       'Debra Catini', 'Becky Martin', 'Benjamin Venier', 'Bill Shonely',\n",
       "       'Pierre Wener', 'Julie Kriz', 'David Kendrick', 'Doug Jacobs',\n",
       "       'Luke Foster', 'Dianna Wilson', 'Michelle Tran', 'Sanjit Jacobs',\n",
       "       'Barry Gonzalez', 'Vivian Mathis', 'Carol Adams', 'Vivek Gonzalez',\n",
       "       'Bradley Nguyen', 'Pete Takahito', 'Jason Klamczynski',\n",
       "       'Greg Tran', 'Gene McClure', 'Helen Wasserman', 'Ross DeVincentis',\n",
       "       'Valerie Mitchum', 'Bart Pistole', 'Chad McGuire', 'Scott Cohen',\n",
       "       'Vivek Sundaresam', 'Natalie DeCherney', 'Cynthia Delaney',\n",
       "       'Tom Stivers', 'Gary McGarr', 'Grant Thornton', 'Speros Goranitis',\n",
       "       'Ellis Ballard', 'Maribeth Dona', 'Corey Lock', 'Bart Folk',\n",
       "       'Anne Pryor', 'Dorris Love', 'Caroline Jumper', 'Pamela Stobb',\n",
       "       'Jasper Cacioppo', 'Alan Haines', 'Deirdre Greer',\n",
       "       'John Stevenson', 'Sheri Gordon', 'Ben Wallace', 'Max Engle',\n",
       "       'Fred Chung', 'Dennis Kane', 'Phillip Flathmann', 'Mathew Reese',\n",
       "       'Stuart Van', 'Brenda Bowman', 'Jennifer Ferguson',\n",
       "       'Theresa Swint', 'Katherine Nockton', 'Stewart Visinsky',\n",
       "       'Jeremy Farry', 'Clay Ludtke', 'Laurel Elliston', 'Mitch Webber',\n",
       "       'Carol Triggs', 'Justin MacKendrick', 'Sarah Brown', 'Tony Sayre',\n",
       "       'Dionis Lloyd', 'Lindsay Castell', 'Michael Chen', 'Toby Carlisle',\n",
       "       'Ted Butterfield', 'Nora Price', 'Shirley Daniels',\n",
       "       'Arthur Gainer', 'Stuart Calhoun', 'Arthur Prichep', 'Kean Nguyen',\n",
       "       'Jim Kriz', 'Harold Ryan', 'John Lucas', 'Alejandro Grove',\n",
       "       'Sam Zeldin', 'Sally Hughsby', 'Jane Waco', 'Sandra Flanagan',\n",
       "       'Steve Nguyen', 'Herbert Flentye', 'Xylona Price', 'Bill Overfelt',\n",
       "       'Robert Marley', 'Mick Hernandez', 'Guy Phonely', 'Jay Kimmel',\n",
       "       'Matt Connell', 'Vivek Grady', 'Ben Ferrer', 'Karen Daniels',\n",
       "       'Pamela Coakley', 'Denny Blanton', 'Laura Armstrong',\n",
       "       'Lindsay Shagiari', 'Cathy Prescott', 'Stephanie Ulpright',\n",
       "       'Odella Nelson', 'Ryan Akin', 'Todd Sumrall', 'Greg Hansen',\n",
       "       'Darrin Martin', 'Ken Brennan', 'Max Jones', 'Joe Kamberova',\n",
       "       'Maureen Fritzler', 'Art Foster', 'Erica Hackney', 'Don Weiss',\n",
       "       'Jessica Myrick', 'Bruce Degenhardt', 'Kalyca Meade',\n",
       "       'Troy Blackwell', 'Clytie Kelty', 'Steven Roelle',\n",
       "       'Benjamin Patterson', 'Denny Joy', 'Kristen Hastings',\n",
       "       'Alan Schoenberger', 'Alejandro Savely', 'Kean Thornton',\n",
       "       'Grant Donatelli', 'Jason Fortune', 'Dave Brooks', 'Philip Fox',\n",
       "       'Ionia McGrath', 'Lori Olson', 'Quincy Jones', 'Patrick Jones',\n",
       "       'Karen Seio', 'Patrick Gardner', 'Nona Balk', 'Erin Mull',\n",
       "       'John Lee', 'Justin Deggeller', 'Keith Dawkins', 'Joe Elijah',\n",
       "       'Stefanie Holloman', 'Ken Black', 'Lindsay Williams',\n",
       "       'Logan Currie', 'Steve Chapman', 'Scot Wooten', 'Denise Monton',\n",
       "       'Ed Braxton', 'Valerie Takahito', 'Penelope Sewall',\n",
       "       'Sean Braxton', 'Valerie Dominguez', 'Susan MacKendrick',\n",
       "       'Thais Sissman', 'Linda Southworth', 'Michael Moore',\n",
       "       'Patrick Ryan', 'Ross Baird', 'Tracy Zic', 'Mick Crebagga',\n",
       "       'Steven Ward', 'Ryan Crowe', 'Irene Maddox', 'Nick Radford',\n",
       "       'Maurice Satty', 'Victor Price', 'Maureen Grace', 'Eric Hoffmann',\n",
       "       'Jill Stevenson', 'Evan Bailliet', 'Meg Tillman',\n",
       "       \"Russell D'Ascenzo\", 'Gary Hwang', 'Emily Ducich',\n",
       "       'Steven Cartwright', 'Sue Ann', 'Sanjit Engle', 'Katherine Ducich',\n",
       "       'Mike Gockenbach', 'Tom Zandusky', 'Henia Zydlo', 'Tracy Collins',\n",
       "       'Toby Knight', 'Thea Hudgings', 'Nora Pelletier', 'Jamie Frazer',\n",
       "       'Rachel Payne', 'Craig Molinari', 'Joy Daniels', 'Jill Fjeld',\n",
       "       'Rick Bensley', 'Roland Murray', 'Peter Fuller', 'Sam Craven',\n",
       "       'Mitch Willingham', 'John Dryer', 'Susan Gilcrest',\n",
       "       'Randy Bradley', 'William Brown', 'Rick Hansen', 'Toby Grace',\n",
       "       'Joseph Holt', 'Ashley Jarboe', 'Pauline Webber', 'Kean Takahito',\n",
       "       'Nick Zandusky', 'Neoma Murray', 'Sung Chung', 'Darrin Van',\n",
       "       'Max Ludwig', 'Michelle Moray', 'Craig Rider', 'Maribeth Yedwab',\n",
       "       'Eugene Moren', 'Mark Van', 'Mark Hamilton', 'Sung Shariari',\n",
       "       'Richard Eichhorn', 'Neil French', 'Nicole Fjeld',\n",
       "       'Suzanne McNair', 'Susan Pistek', 'Nick Crebassa',\n",
       "       'Aleksandra Gannaway', 'Carl Weiss', 'Joel Eaton',\n",
       "       'Justin Ellison', 'Jennifer Jackson', 'Karen Bern',\n",
       "       'Liz Pelletier', 'Jonathan Doherty', 'Frank Gastineau',\n",
       "       'Janet Lee', 'Maxwell Schwartz', 'Liz Carlisle', 'Kelly Collister',\n",
       "       'Dennis Pardue', 'John Huston', 'MaryBeth Skach', 'Craig Carreira',\n",
       "       'Paul Stevenson', 'Luke Schmidt', 'Kelly Andreada',\n",
       "       'Tracy Hopkins', 'Craig Leslie', 'Michael Grace',\n",
       "       'Saphhira Shifley', 'Laurel Beltran', 'Tracy Blumstein',\n",
       "       'Larry Blacks', 'Richard Bierner', 'Tiffany House', 'Roy Collins',\n",
       "       'Toby Swindell', 'Christina Anderson', 'Robert Dilbeck',\n",
       "       'Randy Ferguson', 'Arianne Irving', 'Andy Gerbode', 'Amy Hunt',\n",
       "       'Trudy Brown', 'Brian Dahlen', 'Beth Fritzler', 'Brosina Hoffman',\n",
       "       'Phillina Ober', 'Jim Epp', 'Maribeth Schnelling', 'James Galang',\n",
       "       'Lynn Smith', 'Christine Abelman', 'Pauline Johnson',\n",
       "       'Georgia Rosenberg', 'Allen Armold', 'Katherine Hughes',\n",
       "       'Brendan Sweed', 'Dario Medina', 'Cindy Chapman',\n",
       "       'Benjamin Farhat', 'Dianna Vittorini', 'Cindy Stewart',\n",
       "       'Rob Williams', 'Anna Chung', 'Ricardo Block', 'Trudy Bell',\n",
       "       'Rob Lucas', 'Adam Hart', 'Roland Fjeld', 'Denny Ordway',\n",
       "       'Charles Crestani', 'Bryan Spruell', 'Thomas Thornton',\n",
       "       'Tamara Willingham', 'Anne McFarland', 'Dean Katz', 'Barry Pond',\n",
       "       'Jeremy Pistek', 'Cyra Reiten', 'Victoria Pisteka', 'Dave Kipp',\n",
       "       'David Bremer', 'Jill Matthias', 'Tim Taslimi', 'Juliana Krohn',\n",
       "       'Duane Noonan', 'Paul Van', 'Tom Ashbrook', 'Maris LaWare',\n",
       "       'Mick Brown', 'Chris McAfee', 'Pete Kriz', 'Rick Huthwaite',\n",
       "       'Carol Darley', 'Fred Harton', 'Andrew Allen', 'Art Miller',\n",
       "       'Lauren Leatherbury', 'Greg Matthias', 'Anthony Rawles',\n",
       "       'Barry Blumstein', 'Roger Barcio', 'Sung Pak', 'Tim Brockman',\n",
       "       'Resi Polking', 'Roger Demir', 'Tamara Manning', 'Shaun Chance',\n",
       "       'Sharelle Roach', 'Ken Dana', 'Laurel Workman', 'Lisa Ryan',\n",
       "       'Chloris Kastensmidt', 'Lisa Hazard', 'Mitch Gastineau',\n",
       "       'Katharine Harms', 'Matthew Grinstein', 'Maria Etezadi',\n",
       "       'Sample Company', 'Sonia Cooley', 'Sibella Parks', 'Becky Pak',\n",
       "       'Adam Shillingsburg', 'Brooke Gillingham', 'Tom Boeckenhauer',\n",
       "       'Alex Russell', 'Alejandro Ballentine', 'Claire Good',\n",
       "       'Alyssa Crouse', 'Cassandra Brandow', 'Adrian Barton',\n",
       "       'Catherine Glotzbach', 'Frank Olsen', 'Alice McCarthy',\n",
       "       'Frank Merwin', 'Bruce Money', 'Larry Tron', 'Brian DeCherney',\n",
       "       'Ann Steele', 'Anthony Jacobs', 'Katrina Edelman', 'Ruben Dartt',\n",
       "       'Roy Phan', 'Clay Cheatham', 'Yoseph Carroll', 'Raymond Book',\n",
       "       'Alan Dominguez', 'Stephanie Phelps', 'Tonja Turnell',\n",
       "       'Christopher Conant', 'Cyma Kinney', 'Shui Tom',\n",
       "       'Victoria Brennan', 'Adrian Shami', 'Harry Greene'], dtype=object)"
      ]
     },
     "execution_count": 69,
     "metadata": {},
     "output_type": "execute_result"
    }
   ],
   "source": [
    "## Testing\n",
    "new_transaction.full_name.unique()"
   ]
  },
  {
   "cell_type": "markdown",
   "id": "058e46a9",
   "metadata": {
    "slideshow": {
     "slide_type": "skip"
    }
   },
   "source": [
    "## Anwering questions"
   ]
  },
  {
   "cell_type": "markdown",
   "id": "6f37515c",
   "metadata": {
    "slideshow": {
     "slide_type": "slide"
    }
   },
   "source": [
    "## Question 1\n",
    "Which manager makes the best sales and what region does the manager belongs to?"
   ]
  },
  {
   "cell_type": "code",
   "execution_count": 70,
   "id": "2a2836d0",
   "metadata": {
    "slideshow": {
     "slide_type": "skip"
    }
   },
   "outputs": [
    {
     "data": {
      "text/plain": [
       "14839013"
      ]
     },
     "execution_count": 70,
     "metadata": {},
     "output_type": "execute_result"
    }
   ],
   "source": [
    "## Total sales\n",
    "new_transaction.sales.sum()"
   ]
  },
  {
   "cell_type": "code",
   "execution_count": 71,
   "id": "7c0b2d37",
   "metadata": {
    "scrolled": false,
    "slideshow": {
     "slide_type": "subslide"
    }
   },
   "outputs": [
    {
     "data": {
      "text/plain": [
       "manager\n",
       "Pat        9105637\n",
       "William    2835167\n",
       "Sam        1997256\n",
       "Erin        786604\n",
       "Chris       114349\n",
       "Name: sales, dtype: int32"
      ]
     },
     "execution_count": 71,
     "metadata": {},
     "output_type": "execute_result"
    }
   ],
   "source": [
    "## Sales total per manager\n",
    "c=(new_transaction.groupby(['manager']).sales.sum())\n",
    "c.sort_values(ascending=False)"
   ]
  },
  {
   "cell_type": "code",
   "execution_count": 72,
   "id": "2bda5982",
   "metadata": {
    "slideshow": {
     "slide_type": "subslide"
    }
   },
   "outputs": [
    {
     "data": {
      "text/plain": [
       "manager\n",
       "Pat        851070\n",
       "William    321347\n",
       "Sam        236282\n",
       "Erin       104427\n",
       "Chris        3626\n",
       "Name: profit, dtype: int32"
      ]
     },
     "execution_count": 72,
     "metadata": {},
     "output_type": "execute_result"
    }
   ],
   "source": [
    "## profit per manager\n",
    "c=(new_transaction.groupby(['manager']).profit.sum())\n",
    "c.sort_values(ascending=False)"
   ]
  },
  {
   "cell_type": "markdown",
   "id": "1d4cdceb",
   "metadata": {
    "slideshow": {
     "slide_type": "slide"
    }
   },
   "source": [
    "Pat made the largest sales and had the largest profit made"
   ]
  },
  {
   "cell_type": "code",
   "execution_count": 73,
   "id": "8fbb8ab1",
   "metadata": {
    "slideshow": {
     "slide_type": "subslide"
    }
   },
   "outputs": [
    {
     "data": {
      "text/plain": [
       "region\n",
       "West                     3575286\n",
       "Ontario                  3057625\n",
       "Prarie                   2835167\n",
       "Atlantic                 1997256\n",
       "Quebec                   1505306\n",
       "Yukon                     967420\n",
       "Northwest Territories     786604\n",
       "Nunavut                   114349\n",
       "Name: sales, dtype: int32"
      ]
     },
     "execution_count": 73,
     "metadata": {},
     "output_type": "execute_result"
    }
   ],
   "source": [
    "## Sales total per region\n",
    "c=(new_transaction.groupby(['region']).sales.sum())\n",
    "c.sort_values(ascending=False)"
   ]
  },
  {
   "cell_type": "code",
   "execution_count": 74,
   "id": "d9985a24",
   "metadata": {
    "slideshow": {
     "slide_type": "subslide"
    }
   },
   "outputs": [
    {
     "data": {
      "text/plain": [
       "region\n",
       "Ontario                  345613\n",
       "Prarie                   321347\n",
       "West                     293379\n",
       "Atlantic                 236282\n",
       "Quebec                   140612\n",
       "Northwest Territories    104427\n",
       "Yukon                     71466\n",
       "Nunavut                    3626\n",
       "Name: profit, dtype: int32"
      ]
     },
     "execution_count": 74,
     "metadata": {},
     "output_type": "execute_result"
    }
   ],
   "source": [
    "## Profit total per region\n",
    "c=(new_transaction.groupby(['region']).profit.sum())\n",
    "c.sort_values(ascending=False)"
   ]
  },
  {
   "cell_type": "markdown",
   "id": "99bf13e4",
   "metadata": {
    "slideshow": {
     "slide_type": "slide"
    }
   },
   "source": [
    "The largest sales was made in the West and the largest profit was made in Ontario"
   ]
  },
  {
   "cell_type": "code",
   "execution_count": 78,
   "id": "43fb7740",
   "metadata": {
    "slideshow": {
     "slide_type": "subslide"
    }
   },
   "outputs": [
    {
     "data": {
      "image/png": "[encoded data removed]",
      "text/plain": [
       "<Figure size 432x288 with 1 Axes>"
      ]
     },
     "metadata": {
      "needs_background": "light"
     },
     "output_type": "display_data"
    }
   ],
   "source": [
    "## Plotting\n",
    "sb.lineplot(data=new_transaction, x='region', y='sales', hue='manager')\n",
    "plt.title('Relationship between sales, manager and region')\n",
    "plt.xticks(rotation = 90);"
   ]
  },
  {
   "cell_type": "markdown",
   "id": "13791b48",
   "metadata": {
    "slideshow": {
     "slide_type": "slide"
    }
   },
   "source": [
    "## Observation\n",
    "\n",
    "Pat made the best sales and profit and manages four region; West, Quebec, Yukon and Ontario"
   ]
  },
  {
   "cell_type": "markdown",
   "id": "17f69d15",
   "metadata": {
    "slideshow": {
     "slide_type": "slide"
    }
   },
   "source": [
    "## Question 2\n",
    "\n",
    "How many times was delivery truck used as the ship mode?"
   ]
  },
  {
   "cell_type": "code",
   "execution_count": 79,
   "id": "864f646a",
   "metadata": {
    "scrolled": true,
    "slideshow": {
     "slide_type": "subslide"
    }
   },
   "outputs": [
    {
     "data": {
      "text/plain": [
       "Text(0.5, 1.0, 'Counts of each ship mode')"
      ]
     },
     "execution_count": 79,
     "metadata": {},
     "output_type": "execute_result"
    },
    {
     "data": {
      "image/png": "[encoded data removed]",
      "text/plain": [
       "<Figure size 432x288 with 1 Axes>"
      ]
     },
     "metadata": {
      "needs_background": "light"
     },
     "output_type": "display_data"
    }
   ],
   "source": [
    "## setting the base color for my charts to avoid multiple colors\n",
    "base_color = sb.color_palette()[0]\n",
    "## To arrange my bars in decreasing order\n",
    "gen_order = new_transaction['ship_mode'].value_counts().index\n",
    "## Plotting\n",
    "sb.countplot(data=new_transaction, x='ship_mode', color=base_color, order=gen_order);\n",
    "plt.title('Counts of each ship mode')"
   ]
  },
  {
   "cell_type": "code",
   "execution_count": 80,
   "id": "a798ff7b",
   "metadata": {
    "slideshow": {
     "slide_type": "subslide"
    }
   },
   "outputs": [
    {
     "data": {
      "text/plain": [
       "Regular Air       6247\n",
       "Delivery Truck    1140\n",
       "Express Air        952\n",
       "unknown             30\n",
       "Name: ship_mode, dtype: int64"
      ]
     },
     "execution_count": 80,
     "metadata": {},
     "output_type": "execute_result"
    }
   ],
   "source": [
    "## actual value of each\n",
    "new_transaction['ship_mode'].value_counts()"
   ]
  },
  {
   "cell_type": "markdown",
   "id": "55389b71",
   "metadata": {
    "slideshow": {
     "slide_type": "slide"
    }
   },
   "source": [
    "\n",
    "## Observation\n",
    "\n",
    "Delivery truck was used as a ship mode for 1140 times"
   ]
  },
  {
   "cell_type": "markdown",
   "id": "50f20cbc",
   "metadata": {
    "slideshow": {
     "slide_type": "slide"
    }
   },
   "source": [
    "## Question 3\n",
    "\n",
    "How many orders were returned, and which product category got rejected the most?"
   ]
  },
  {
   "cell_type": "code",
   "execution_count": 81,
   "id": "1b75c129",
   "metadata": {
    "slideshow": {
     "slide_type": "subslide"
    }
   },
   "outputs": [
    {
     "data": {
      "text/plain": [
       "Text(0.5, 1.0, 'Counts of order status')"
      ]
     },
     "execution_count": 81,
     "metadata": {},
     "output_type": "execute_result"
    },
    {
     "data": {
      "image/png": "[encoded data removed]",
      "text/plain": [
       "<Figure size 432x288 with 1 Axes>"
      ]
     },
     "metadata": {
      "needs_background": "light"
     },
     "output_type": "display_data"
    }
   ],
   "source": [
    "## To arrange my bars in decreasing order\n",
    "gen_order = new_transaction['order_status'].value_counts().index\n",
    "## Plotting\n",
    "sb.countplot(data=new_transaction, x='order_status', color=base_color, order=gen_order);\n",
    "plt.title('Counts of order status')"
   ]
  },
  {
   "cell_type": "code",
   "execution_count": 82,
   "id": "9aa85522",
   "metadata": {
    "slideshow": {
     "slide_type": "subslide"
    }
   },
   "outputs": [
    {
     "data": {
      "text/plain": [
       "Delivered    7501\n",
       "Returned      868\n",
       "Name: order_status, dtype: int64"
      ]
     },
     "execution_count": 82,
     "metadata": {},
     "output_type": "execute_result"
    }
   ],
   "source": [
    "## actual value of each\n",
    "new_transaction['order_status'].value_counts()"
   ]
  },
  {
   "cell_type": "code",
   "execution_count": 105,
   "id": "84b0fad1",
   "metadata": {
    "slideshow": {
     "slide_type": "subslide"
    }
   },
   "outputs": [
    {
     "data": {
      "image/png": "[encoded data removed]",
      "text/plain": [
       "<Figure size 432x288 with 1 Axes>"
      ]
     },
     "metadata": {
      "needs_background": "light"
     },
     "output_type": "display_data"
    }
   ],
   "source": [
    "## plotting\n",
    "sb.countplot(data = new_transaction, x = 'product_category', hue = 'order_status')\n",
    "plt.title('Relationship between order status and product category')\n",
    "plt.xticks(rotation = 15);"
   ]
  },
  {
   "cell_type": "markdown",
   "id": "a018d8bf",
   "metadata": {
    "slideshow": {
     "slide_type": "slide"
    }
   },
   "source": [
    "## Observation\n",
    "\n",
    "Orders retured were 868 and office supplies got rejected the most."
   ]
  },
  {
   "cell_type": "markdown",
   "id": "31fc46e4",
   "metadata": {
    "slideshow": {
     "slide_type": "slide"
    }
   },
   "source": [
    "## Question 4\n",
    "\n",
    "Which Year did the company incurred the least shipping cost?"
   ]
  },
  {
   "cell_type": "code",
   "execution_count": 55,
   "id": "2f47e68b",
   "metadata": {
    "slideshow": {
     "slide_type": "subslide"
    }
   },
   "outputs": [
    {
     "data": {
      "text/plain": [
       "shipyear\n",
       "2011    23715\n",
       "2010    26001\n",
       "2012    26028\n",
       "2009    27031\n",
       "Name: shipping_cost, dtype: int32"
      ]
     },
     "execution_count": 55,
     "metadata": {},
     "output_type": "execute_result"
    }
   ],
   "source": [
    "## Sales total per manager\n",
    "c=(new_transaction.groupby(['shipyear']).shipping_cost.sum())\n",
    "c.sort_values(ascending=True)"
   ]
  },
  {
   "cell_type": "markdown",
   "id": "0b29c238",
   "metadata": {
    "slideshow": {
     "slide_type": "slide"
    }
   },
   "source": [
    "# Observation\n",
    "\n",
    "The company incurred the least shipping cost in 2011"
   ]
  },
  {
   "cell_type": "markdown",
   "id": "3cb82674",
   "metadata": {
    "slideshow": {
     "slide_type": "slide"
    }
   },
   "source": [
    "## Question 5\n",
    "\n",
    "Display the day of the week in which customer segment has the most sales?"
   ]
  },
  {
   "cell_type": "code",
   "execution_count": 85,
   "id": "3ab484ae",
   "metadata": {
    "slideshow": {
     "slide_type": "subslide"
    }
   },
   "outputs": [
    {
     "data": {
      "text/plain": [
       "customer_segment\n",
       "Corporate         5473574\n",
       "Home Office       3537685\n",
       "Consumer          3047607\n",
       "Small Business    2780147\n",
       "Name: sales, dtype: int32"
      ]
     },
     "execution_count": 85,
     "metadata": {},
     "output_type": "execute_result"
    }
   ],
   "source": [
    "## Sales total per region\n",
    "c=(new_transaction.groupby(['customer_segment']).sales.sum())\n",
    "c.sort_values(ascending=False)"
   ]
  },
  {
   "cell_type": "code",
   "execution_count": 88,
   "id": "5b960d83",
   "metadata": {
    "slideshow": {
     "slide_type": "subslide"
    }
   },
   "outputs": [
    {
     "data": {
      "text/plain": [
       "Text(0.5, 1.0, 'Sales made per day in each customer segment')"
      ]
     },
     "execution_count": 88,
     "metadata": {},
     "output_type": "execute_result"
    },
    {
     "data": {
      "image/png": "[encoded data removed]",
      "text/plain": [
       "<Figure size 432x288 with 1 Axes>"
      ]
     },
     "metadata": {
      "needs_background": "light"
     },
     "output_type": "display_data"
    }
   ],
   "source": [
    "## plotting\n",
    "sb.violinplot(x = 'day_of_sales', y = 'sales', hue = 'customer_segment', data = new_transaction)\n",
    "plt.title('Sales made per day in each customer segment')"
   ]
  },
  {
   "cell_type": "markdown",
   "id": "f46eb7d3",
   "metadata": {
    "slideshow": {
     "slide_type": "slide"
    }
   },
   "source": [
    "\n",
    "## Observation\n",
    "\n",
    "Customer segment has most sales on Saturdays"
   ]
  },
  {
   "cell_type": "markdown",
   "id": "4c6a6fda",
   "metadata": {
    "slideshow": {
     "slide_type": "slide"
    }
   },
   "source": [
    "## Question 6\n",
    "\n",
    "What are the actual orders delivered in relation to profit?\n",
    "\n",
    "The company want to determine its profitability by knowing the actual orders that were delivered."
   ]
  },
  {
   "cell_type": "code",
   "execution_count": 89,
   "id": "e274c342",
   "metadata": {
    "slideshow": {
     "slide_type": "subslide"
    }
   },
   "outputs": [
    {
     "data": {
      "text/plain": [
       "order_status\n",
       "Delivered    1320682\n",
       "Returned      196070\n",
       "Name: profit, dtype: int32"
      ]
     },
     "execution_count": 89,
     "metadata": {},
     "output_type": "execute_result"
    }
   ],
   "source": [
    "## Order status per profit\n",
    "c=(new_transaction.groupby(['order_status']).profit.sum())\n",
    "c.sort_values(ascending=False)"
   ]
  },
  {
   "cell_type": "code",
   "execution_count": 90,
   "id": "8530697a",
   "metadata": {
    "slideshow": {
     "slide_type": "skip"
    }
   },
   "outputs": [
    {
     "data": {
      "text/plain": [
       "1516752"
      ]
     },
     "execution_count": 90,
     "metadata": {},
     "output_type": "execute_result"
    }
   ],
   "source": [
    "## Total of profit\n",
    "new_transaction.profit.sum()"
   ]
  },
  {
   "cell_type": "code",
   "execution_count": 91,
   "id": "9364a824",
   "metadata": {
    "slideshow": {
     "slide_type": "skip"
    }
   },
   "outputs": [
    {
     "data": {
      "text/plain": [
       "0.8707303501165649"
      ]
     },
     "execution_count": 91,
     "metadata": {},
     "output_type": "execute_result"
    }
   ],
   "source": [
    "## delivered order profit percentage\n",
    "(1320682/new_transaction.profit.sum())"
   ]
  },
  {
   "cell_type": "code",
   "execution_count": 92,
   "id": "ef5e3923",
   "metadata": {
    "slideshow": {
     "slide_type": "skip"
    }
   },
   "outputs": [
    {
     "data": {
      "text/plain": [
       "Delivered    7501\n",
       "Returned      868\n",
       "Name: order_status, dtype: int64"
      ]
     },
     "execution_count": 92,
     "metadata": {},
     "output_type": "execute_result"
    }
   ],
   "source": [
    "## actual value of each\n",
    "new_transaction['order_status'].value_counts()"
   ]
  },
  {
   "cell_type": "code",
   "execution_count": 93,
   "id": "a992d085",
   "metadata": {
    "slideshow": {
     "slide_type": "skip"
    }
   },
   "outputs": [
    {
     "data": {
      "text/plain": [
       "0.8962839048870833"
      ]
     },
     "execution_count": 93,
     "metadata": {},
     "output_type": "execute_result"
    }
   ],
   "source": [
    "7501/(7501+868)"
   ]
  },
  {
   "cell_type": "code",
   "execution_count": 106,
   "id": "91ce5bcc",
   "metadata": {
    "slideshow": {
     "slide_type": "subslide"
    }
   },
   "outputs": [
    {
     "data": {
      "text/plain": [
       "Text(0.5, 1.0, 'Order status per profit made')"
      ]
     },
     "execution_count": 106,
     "metadata": {},
     "output_type": "execute_result"
    },
    {
     "data": {
      "image/png": "[encoded data removed]",
      "text/plain": [
       "<Figure size 432x288 with 1 Axes>"
      ]
     },
     "metadata": {
      "needs_background": "light"
     },
     "output_type": "display_data"
    }
   ],
   "source": [
    "## Plotting\n",
    "plt.scatter(data = new_transaction, x = 'order_status', y = 'profit', alpha = 1)\n",
    "plt.xlabel('order_status')\n",
    "plt.ylabel('profit')\n",
    "plt.title('Order status per profit made')"
   ]
  },
  {
   "cell_type": "markdown",
   "id": "46743f49",
   "metadata": {
    "slideshow": {
     "slide_type": "slide"
    }
   },
   "source": [
    "## Observation\n",
    "\n",
    "Approximately 90% of orders were delivered and these orders resulted to about 87% profit, thus the company is making profit."
   ]
  },
  {
   "cell_type": "markdown",
   "id": "24740aa5",
   "metadata": {
    "slideshow": {
     "slide_type": "slide"
    }
   },
   "source": [
    "## Question 7\n",
    "\n",
    "The Organization is eager to know the customer names and persons born in 2011?"
   ]
  },
  {
   "cell_type": "code",
   "execution_count": 96,
   "id": "291d4dbd",
   "metadata": {
    "slideshow": {
     "slide_type": "subslide"
    }
   },
   "outputs": [
    {
     "data": {
      "text/plain": [
       "array([1970., 1969., 1972., 1968., 1967., 1983., 1948., 1982., 1949.,\n",
       "       1950., 1951., 1952., 1981., 1980., 1953., 1954., 1984., 1955.,\n",
       "       1956., 1957., 1958., 1979., 1977., 1959., 1960., 1961., 1978.,\n",
       "       1963., 1971., 1966., 1965., 1964., 1939., 1940., 1942., 1943.,\n",
       "       1945., 1946., 1976., 1947., 1962., 1936., 1937., 1938., 1941.,\n",
       "       1944., 1974., 1973., 1975., 1934., 1935., 1930., 1928., 1914.,\n",
       "       1931., 1932., 1933., 1926., 1915., 1916., 1924., 1925., 1920.,\n",
       "       1917., 1923., 1927.])"
      ]
     },
     "execution_count": 96,
     "metadata": {},
     "output_type": "execute_result"
    }
   ],
   "source": [
    "## find the unique birth year\n",
    "new_transaction.birthyear.unique()"
   ]
  },
  {
   "cell_type": "markdown",
   "id": "b35c6439",
   "metadata": {
    "slideshow": {
     "slide_type": "slide"
    }
   },
   "source": [
    "# Observation\n",
    "There was no customer born in 2011"
   ]
  },
  {
   "cell_type": "markdown",
   "id": "f0c70157",
   "metadata": {
    "slideshow": {
     "slide_type": "slide"
    }
   },
   "source": [
    " ## Question 8\n",
    " \n",
    " What are the aggregate orders made by all the customers?"
   ]
  },
  {
   "cell_type": "code",
   "execution_count": 97,
   "id": "5e60eaf4",
   "metadata": {
    "slideshow": {
     "slide_type": "subslide"
    }
   },
   "outputs": [
    {
     "data": {
      "text/plain": [
       "213986"
      ]
     },
     "execution_count": 97,
     "metadata": {},
     "output_type": "execute_result"
    }
   ],
   "source": [
    "## Aggregate of orders\n",
    "new_transaction.order_quantity.sum()"
   ]
  },
  {
   "cell_type": "markdown",
   "id": "ce2f24fa",
   "metadata": {
    "slideshow": {
     "slide_type": "slide"
    }
   },
   "source": [
    "# Observation\n",
    "\n",
    "Total orders of 213986 were made by all the customers."
   ]
  },
  {
   "cell_type": "markdown",
   "id": "912e25a2",
   "metadata": {
    "slideshow": {
     "slide_type": "slide"
    }
   },
   "source": [
    "## Question 9\n",
    "\n",
    "The company intends to discontinue any product that brings in the least profit, you are required to help the organization to determine the product?"
   ]
  },
  {
   "cell_type": "code",
   "execution_count": 100,
   "id": "d4bb33d1",
   "metadata": {
    "slideshow": {
     "slide_type": "subslide"
    }
   },
   "outputs": [
    {
     "data": {
      "text/plain": [
       "Text(0.5, 1.0, 'profit per product_category')"
      ]
     },
     "execution_count": 100,
     "metadata": {},
     "output_type": "execute_result"
    },
    {
     "data": {
      "image/png": "[encoded data removed]",
      "text/plain": [
       "<Figure size 432x288 with 1 Axes>"
      ]
     },
     "metadata": {
      "needs_background": "light"
     },
     "output_type": "display_data"
    }
   ],
   "source": [
    "## plotting\n",
    "plt.scatter(x = 'product_category', y = 'profit', data = new_transaction)\n",
    "plt.xlabel('product_category')\n",
    "plt.ylabel('profit')\n",
    "plt.title('profit per product_category')"
   ]
  },
  {
   "cell_type": "code",
   "execution_count": 101,
   "id": "1e19fe5a",
   "metadata": {
    "slideshow": {
     "slide_type": "subslide"
    }
   },
   "outputs": [
    {
     "data": {
      "text/plain": [
       "product_category\n",
       "Technology         882945\n",
       "Office Supplies    515632\n",
       "Furniture          118175\n",
       "Name: profit, dtype: int32"
      ]
     },
     "execution_count": 101,
     "metadata": {},
     "output_type": "execute_result"
    }
   ],
   "source": [
    "## Product category per profit\n",
    "c=(new_transaction.groupby(['product_category']).profit.sum())\n",
    "c.sort_values(ascending=False)"
   ]
  },
  {
   "cell_type": "code",
   "execution_count": 102,
   "id": "64ea1f48",
   "metadata": {
    "slideshow": {
     "slide_type": "subslide"
    }
   },
   "outputs": [
    {
     "data": {
      "text/plain": [
       "product_sub-category\n",
       "Telephones and Communication      314771\n",
       "Binders and Binder Accessories    306729\n",
       "Office Machines                   306360\n",
       "Copiers and Fax                   167356\n",
       "Chairs & Chairmats                149058\n",
       "Office Furnishings                 99793\n",
       "Appliances                         97153\n",
       "Computer Peripherals               94458\n",
       "Envelopes                          47927\n",
       "Paper                              45980\n",
       "Labels                             13563\n",
       "Pens & Art Supplies                 7540\n",
       "Storage & Organization              4614\n",
       "Rubber Bands                         -93\n",
       "Scissors, Rulers and Trimmers      -7781\n",
       "Bookcases                         -33522\n",
       "Tables                            -97154\n",
       "Name: profit, dtype: int32"
      ]
     },
     "execution_count": 102,
     "metadata": {},
     "output_type": "execute_result"
    }
   ],
   "source": [
    "## Product sub category per profit\n",
    "c=(new_transaction.groupby(['product_sub-category']).profit.sum())\n",
    "c.sort_values(ascending=False)"
   ]
  },
  {
   "cell_type": "code",
   "execution_count": 107,
   "id": "f46c52af",
   "metadata": {
    "slideshow": {
     "slide_type": "subslide"
    }
   },
   "outputs": [
    {
     "data": {
      "image/png": "[encoded data removed]",
      "text/plain": [
       "<Figure size 432x288 with 1 Axes>"
      ]
     },
     "metadata": {
      "needs_background": "light"
     },
     "output_type": "display_data"
    }
   ],
   "source": [
    "## plotting\n",
    "plt.scatter(data = new_transaction, x = 'product_sub-category', y = 'profit', alpha = 1)\n",
    "plt.xlabel('product_category')\n",
    "plt.ylabel('profit')\n",
    "plt.title('profit per product_category')\n",
    "plt.xticks(rotation = 90);"
   ]
  },
  {
   "cell_type": "code",
   "execution_count": 114,
   "id": "c57e302c",
   "metadata": {
    "slideshow": {
     "slide_type": "subslide"
    }
   },
   "outputs": [
    {
     "data": {
      "image/png": "[encoded data removed]",
      "text/plain": [
       "<Figure size 1080x504 with 1 Axes>"
      ]
     },
     "metadata": {
      "needs_background": "light"
     },
     "output_type": "display_data"
    }
   ],
   "source": [
    "## plotting\n",
    "plt.figure(figsize = [15, 7])\n",
    "sb.violinplot(x = 'product_sub-category', y = 'profit', hue = 'product_category', data = new_transaction)\n",
    "plt.xlabel('product_sub-category')\n",
    "plt.ylabel('profit')\n",
    "plt.title('profit per product_sub-category')\n",
    "plt.xticks(rotation = 90);"
   ]
  },
  {
   "cell_type": "markdown",
   "id": "65dff480",
   "metadata": {
    "slideshow": {
     "slide_type": "slide"
    }
   },
   "source": [
    "## Observation\n",
    "\n",
    "Rubber Bands, Scissors, Rulers and Trimmers, Bookcases and Tables brought the least profit and also loss to the company and I will recommend that these products be discontinued. Tables and bookcases brought about the greatest loss and should not be included in the companies sales in the coming years."
   ]
  },
  {
   "cell_type": "markdown",
   "id": "11be3399",
   "metadata": {
    "slideshow": {
     "slide_type": "slide"
    }
   },
   "source": [
    "## Question 10\n",
    "\n",
    "What are the top 2 best selling items that the company should keep selling?"
   ]
  },
  {
   "cell_type": "code",
   "execution_count": 115,
   "id": "e2d595f2",
   "metadata": {
    "scrolled": true,
    "slideshow": {
     "slide_type": "subslide"
    }
   },
   "outputs": [
    {
     "data": {
      "image/png": "[encoded data removed]",
      "text/plain": [
       "<Figure size 432x288 with 1 Axes>"
      ]
     },
     "metadata": {
      "needs_background": "light"
     },
     "output_type": "display_data"
    }
   ],
   "source": [
    "## Plotting\n",
    "plt.scatter(data = new_transaction, x = 'product_sub-category', y = 'sales', alpha = 1)\n",
    "plt.xticks(rotation = 90);"
   ]
  },
  {
   "cell_type": "code",
   "execution_count": 116,
   "id": "82eb21f9",
   "metadata": {
    "slideshow": {
     "slide_type": "subslide"
    }
   },
   "outputs": [
    {
     "data": {
      "image/png": "[encoded data removed]",
      "text/plain": [
       "<Figure size 1080x504 with 1 Axes>"
      ]
     },
     "metadata": {
      "needs_background": "light"
     },
     "output_type": "display_data"
    }
   ],
   "source": [
    "## plotting\n",
    "plt.figure(figsize = [15, 7])\n",
    "sb.violinplot(x = 'product_sub-category', y = 'sales', hue = 'product_category', data = new_transaction)\n",
    "plt.xlabel('product_sub-category')\n",
    "plt.ylabel('profit')\n",
    "plt.title('sales per product_sub-category')\n",
    "plt.xticks(rotation = 90);"
   ]
  },
  {
   "cell_type": "code",
   "execution_count": 117,
   "id": "d5fe905e",
   "metadata": {
    "slideshow": {
     "slide_type": "subslide"
    }
   },
   "outputs": [
    {
     "data": {
      "text/plain": [
       "product_sub-category\n",
       "Office Machines                   2142690\n",
       "Tables                            1885558\n",
       "Telephones and Communication      1881338\n",
       "Chairs & Chairmats                1757701\n",
       "Copiers and Fax                   1130311\n",
       "Storage & Organization            1056212\n",
       "Binders and Binder Accessories    1018586\n",
       "Bookcases                          822559\n",
       "Computer Peripherals               795135\n",
       "Appliances                         736779\n",
       "Office Furnishings                 694087\n",
       "Paper                              443804\n",
       "Envelopes                          173078\n",
       "Pens & Art Supplies                166787\n",
       "Scissors, Rulers and Trimmers       80627\n",
       "Labels                              38848\n",
       "Rubber Bands                        14913\n",
       "Name: sales, dtype: int32"
      ]
     },
     "execution_count": 117,
     "metadata": {},
     "output_type": "execute_result"
    }
   ],
   "source": [
    "## sales per product\n",
    "c=(new_transaction.groupby(['product_sub-category']).sales.sum())\n",
    "c.sort_values(ascending=False)"
   ]
  },
  {
   "cell_type": "markdown",
   "id": "6ff918ff",
   "metadata": {
    "slideshow": {
     "slide_type": "slide"
    }
   },
   "source": [
    "## Observation\n",
    "\n",
    "Tables despite making much sales resulted in loss. Therefore, office machines and telephones and communications were the best selling items and I recommend the company to keep selling them."
   ]
  },
  {
   "cell_type": "markdown",
   "id": "7781af34",
   "metadata": {
    "slideshow": {
     "slide_type": "slide"
    }
   },
   "source": [
    "## Findings\n",
    "\n",
    "-Pat made the best sales and profit and manages four region; West, Quebec, Yukon and Ontario. \n",
    "\n",
    "-Delivery truck was used as a ship mode for 1140 times and was the second popular shipping mode.\n",
    "\n",
    "-retured were 868 and office supplies got rejected the most. \n",
    "\n",
    "-The company incurred the least shipping cost in 2011. \n",
    "\n",
    "-Customer segment has most sales on Saturdays. \n",
    "\n",
    "-Approximately 90% of orders were delivered and these orders resulted to about 87% profit, thus the company is making profit. \n",
    "\n",
    "-There was no customer born in 2011. \n",
    "\n",
    "-Total orders of 213986 were made by all the customers. \n",
    "\n",
    "-Rubber Bands, Scissors, Rulers and Trimmers, Bookcases and Tables brought the least profit and also loss to the company and I will recommend that these products be discontinued. Tables and bookcases brought about the greatest loss and should not be included in the companies sales in the coming years. \n",
    "\n",
    "-Tables despite making much sales resulted in loss. Therefore, office machines and telephones and communications were the best selling items and I recommend the company to keep selling them."
   ]
  },
  {
   "cell_type": "markdown",
   "id": "81f40726",
   "metadata": {
    "slideshow": {
     "slide_type": "slide"
    }
   },
   "source": [
    "## Conclusion\n",
    "\n",
    "This company was profitable and will possibly overcome future competitors. "
   ]
  },
  {
   "cell_type": "code",
   "execution_count": null,
   "id": "77e81720",
   "metadata": {},
   "outputs": [],
   "source": []
  }
 ],
 "metadata": {
  "celltoolbar": "Raw Cell Format",
  "kernelspec": {
   "display_name": "Python 3 (ipykernel)",
   "language": "python",
   "name": "python3"
  },
  "language_info": {
   "codemirror_mode": {
    "name": "ipython",
    "version": 3
   },
   "file_extension": ".py",
   "mimetype": "text/x-python",
   "name": "python",
   "nbconvert_exporter": "python",
   "pygments_lexer": "ipython3",
   "version": "3.9.12"
  }
 },
 "nbformat": 4,
 "nbformat_minor": 5
}
